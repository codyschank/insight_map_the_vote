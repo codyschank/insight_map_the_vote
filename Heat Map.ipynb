{
 "cells": [
  {
   "cell_type": "code",
   "execution_count": 1,
   "metadata": {},
   "outputs": [],
   "source": [
    "import pandas as pd \n",
    "import geopandas as gpd\n",
    "import numpy as np\n",
    "from scipy import ndimage\n",
    "\n",
    "import matplotlib\n",
    "import matplotlib.pylab as pylab\n",
    "import matplotlib.pyplot as plt\n",
    "\n",
    "import psycopg2\n",
    "import folium\n",
    "\n",
    "from sqlalchemy import create_engine\n",
    "from sqlalchemy_utils import database_exists, create_database\n",
    "from folium.plugins import HeatMap, ImageOverlay\n",
    "\n",
    "# https://alcidanalytics.com/p/geographic-heatmap-in-python\n",
    "# https://github.com/python-visualization/folium/blob/master/examples/Heatmap.ipynb\n",
    "# http://python-visualization.github.io/folium/docs-v0.5.0/plugins.html\n",
    "# http://nbviewer.jupyter.org/github/ocefpaf/folium_notebooks/blob/master/test_image_overlay_gulf_stream.ipynb"
   ]
  },
  {
   "cell_type": "code",
   "execution_count": 2,
   "metadata": {},
   "outputs": [
    {
     "name": "stdout",
     "output_type": "stream",
     "text": [
      "postgres://codyschank@localhost/map_the_vote\n",
      "True\n"
     ]
    }
   ],
   "source": [
    "# Define a database name (we're using a dataset on births, so we'll call it birth_db)\n",
    "# Set your postgres username\n",
    "dbname = 'map_the_vote'\n",
    "username = 'codyschank' # change this to your username\n",
    "\n",
    "engine = create_engine('postgres://%s@localhost/%s'%(username,dbname))\n",
    "print(engine.url)\n",
    "\n",
    "## create a database (if it doesn't exist)\n",
    "if not database_exists(engine.url):\n",
    "    create_database(engine.url)\n",
    "print(database_exists(engine.url))"
   ]
  },
  {
   "cell_type": "code",
   "execution_count": 3,
   "metadata": {},
   "outputs": [],
   "source": [
    "# Connect to make queries using psycopg2\n",
    "con = None\n",
    "con = psycopg2.connect(database = dbname, user = username)"
   ]
  },
  {
   "cell_type": "code",
   "execution_count": 4,
   "metadata": {},
   "outputs": [],
   "source": [
    "sql_query = \"\"\"\n",
    "SELECT * FROM final_addresses_not_joined;\n",
    "\"\"\"\n",
    "pts = gpd.GeoDataFrame.from_postgis(sql_query, con, geom_col='geom')"
   ]
  },
  {
   "cell_type": "code",
   "execution_count": 5,
   "metadata": {},
   "outputs": [],
   "source": [
    "tx25_shapefile = gpd.read_file(\"/Users/codyschank/Dropbox/TX-25/geography/TX25.shp\", encoding = 'utf-8')\n",
    "#project to geographic coordinates to match openaddresses\n",
    "tx25_shapefile = tx25_shapefile.to_crs({'init': 'epsg:3081'})"
   ]
  },
  {
   "cell_type": "code",
   "execution_count": 7,
   "metadata": {},
   "outputs": [
    {
     "data": {
      "text/plain": [
       "<matplotlib.axes._subplots.AxesSubplot at 0xb1eac8cf8>"
      ]
     },
     "execution_count": 7,
     "metadata": {},
     "output_type": "execute_result"
    },
    {
     "data": {
      "image/png": "[encoded data removed]",
      "text/plain": [
       "<Figure size 432x288 with 1 Axes>"
      ]
     },
     "metadata": {},
     "output_type": "display_data"
    }
   ],
   "source": [
    "pts.plot()"
   ]
  },
  {
   "cell_type": "code",
   "execution_count": 6,
   "metadata": {},
   "outputs": [],
   "source": [
    "# http://nbviewer.jupyter.org/gist/perrygeo/c426355e40037c452434\n",
    "def heatmap(d, bins=(100,100), smoothing=1.3, cmap='jet'):\n",
    "    def getx(pt):\n",
    "        return pt.coords[0][0]\n",
    "\n",
    "    def gety(pt):\n",
    "        return pt.coords[0][1]\n",
    "\n",
    "    x = list(d.geometry.apply(getx))\n",
    "    y = list(d.geometry.apply(gety))\n",
    "    heatmap, xedges, yedges = np.histogram2d(y, x, bins=bins)\n",
    "    extent = [yedges[0], yedges[-1], xedges[-1], xedges[0]]\n",
    "\n",
    "    logheatmap = np.log(heatmap)\n",
    "    logheatmap[np.isneginf(logheatmap)] = 0\n",
    "    logheatmap = ndimage.filters.gaussian_filter(logheatmap, smoothing, mode='nearest')\n",
    "    \n",
    "    fig = plt.figure()\n",
    "    plt.imshow(logheatmap, cmap=cmap, extent=extent) # showing log heatmap, can show regular so scale makes more intuitive sense\n",
    "    plt.colorbar()\n",
    "    plt.gca().invert_yaxis()\n",
    "    fig.savefig('/Users/codyschank/Dropbox/Insight/my_webapp/static/heat_map.png')\n"
   ]
  },
  {
   "cell_type": "code",
   "execution_count": 7,
   "metadata": {},
   "outputs": [
    {
     "name": "stderr",
     "output_type": "stream",
     "text": [
      "/Users/codyschank/anaconda3/lib/python3.6/site-packages/ipykernel_launcher.py:15: RuntimeWarning: divide by zero encountered in log\n",
      "  from ipykernel import kernelapp as app\n"
     ]
    }
   ],
   "source": [
    "bins=(700,500)\n",
    "smoothing=1.5\n",
    "\n",
    "def getx(pt):\n",
    "    return pt.coords[0][0]\n",
    "\n",
    "def gety(pt):\n",
    "    return pt.coords[0][1]\n",
    "\n",
    "x = pts.oa_lon.values\n",
    "y = pts.oa_lat.values\n",
    "heatmap, xedges, yedges = np.histogram2d(y, x, bins=bins)\n",
    "extent = [yedges[0], yedges[-1], xedges[-1], xedges[0]]\n",
    "\n",
    "logheatmap = np.log(heatmap)\n",
    "logheatmap[np.isneginf(logheatmap)] = 0\n",
    "logheatmap = ndimage.filters.gaussian_filter(logheatmap, smoothing, mode='nearest')\n"
   ]
  },
  {
   "cell_type": "code",
   "execution_count": 8,
   "metadata": {},
   "outputs": [],
   "source": [
    "my_cm = plt.cm.get_cmap('jet')\n",
    "mapped_data = my_cm(logheatmap)\n",
    "mapped_data = np.flip(mapped_data, 0)"
   ]
  },
  {
   "cell_type": "code",
   "execution_count": 9,
   "metadata": {},
   "outputs": [],
   "source": [
    "hmap = folium.Map(location=[31.12, -97.55], zoom_start=7, width=\"100%\", height=\"100%\" )\n",
    "\n",
    "img = ImageOverlay(\n",
    "    name='Mercator projection SW',\n",
    "    image=mapped_data,\n",
    "    bounds=[[y.min(), x.min()], [y.max(), x.max()]],\n",
    "    opacity=0.6,\n",
    "    interactive=True,\n",
    "    cross_origin=False,\n",
    "    zindex=1,\n",
    ")\n",
    "\n",
    "folium.GeoJson(tx25_shapefile, style_function=lambda feature: {'color' :'white', 'fillOpacity' : 0.0}).add_to(hmap)\n",
    "hmap.add_child(img)\n",
    "hmap.save('/Users/codyschank/Dropbox/Insight/my_webapp/static/heat_map.html')"
   ]
  },
  {
   "cell_type": "code",
   "execution_count": null,
   "metadata": {},
   "outputs": [],
   "source": []
  }
 ],
 "metadata": {
  "kernelspec": {
   "display_name": "Python 3",
   "language": "python",
   "name": "python3"
  },
  "language_info": {
   "codemirror_mode": {
    "name": "ipython",
    "version": 3
   },
   "file_extension": ".py",
   "mimetype": "text/x-python",
   "name": "python",
   "nbconvert_exporter": "python",
   "pygments_lexer": "ipython3",
   "version": "3.6.5"
  }
 },
 "nbformat": 4,
 "nbformat_minor": 2
}
