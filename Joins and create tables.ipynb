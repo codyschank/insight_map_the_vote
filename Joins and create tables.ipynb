{
 "cells": [
  {
   "cell_type": "code",
   "execution_count": 7,
   "metadata": {},
   "outputs": [],
   "source": [
    "import psycopg2\n",
    "import numpy\n",
    "\n",
    "import pandas as pd\n",
    "import geopandas as gpd\n",
    "import matplotlib.pyplot as plt\n",
    "\n",
    "from sqlalchemy import create_engine\n",
    "from sqlalchemy_utils import database_exists, create_database\n",
    "from geoalchemy2 import Geometry, WKTElement\n",
    "from shapely.geometry import Point"
   ]
  },
  {
   "cell_type": "code",
   "execution_count": 8,
   "metadata": {},
   "outputs": [
    {
     "name": "stdout",
     "output_type": "stream",
     "text": [
      "postgres://codyschank@localhost/map_the_vote\n",
      "True\n"
     ]
    }
   ],
   "source": [
    "# Define a database name (we're using a dataset on births, so we'll call it birth_db)\n",
    "# Set your postgres username\n",
    "dbname = 'map_the_vote'\n",
    "username = 'codyschank' # change this to your username\n",
    "\n",
    "engine = create_engine('postgres://%s@localhost/%s'%(username,dbname))\n",
    "print(engine.url)\n",
    "\n",
    "## create a database (if it doesn't exist)\n",
    "if not database_exists(engine.url):\n",
    "    create_database(engine.url)\n",
    "print(database_exists(engine.url))"
   ]
  },
  {
   "cell_type": "code",
   "execution_count": 9,
   "metadata": {},
   "outputs": [],
   "source": [
    "# Connect to make queries using psycopg2\n",
    "con = None\n",
    "con = psycopg2.connect(database = dbname, user = username)"
   ]
  },
  {
   "cell_type": "code",
   "execution_count": 42,
   "metadata": {},
   "outputs": [
    {
     "data": {
      "text/plain": [
       "<sqlalchemy.engine.result.ResultProxy at 0x11cf7cef0>"
      ]
     },
     "execution_count": 42,
     "metadata": {},
     "output_type": "execute_result"
    }
   ],
   "source": [
    "# intersect with districts where I have voter files\n",
    "sql_query = \"\"\"\n",
    "CREATE TABLE select_all_addresses AS\n",
    "SELECT b.* FROM us_congressional_districts a, addresses_table_tx_no_dupes b \n",
    "    WHERE ST_Intersects(a.geom,b.geom) AND a.geoid IN ('4821','4825','4810');\n",
    "\"\"\"\n",
    "engine.execute(sql_query)"
   ]
  },
  {
   "cell_type": "code",
   "execution_count": 43,
   "metadata": {},
   "outputs": [
    {
     "data": {
      "text/plain": [
       "<sqlalchemy.engine.result.ResultProxy at 0x114ddd390>"
      ]
     },
     "execution_count": 43,
     "metadata": {},
     "output_type": "execute_result"
    }
   ],
   "source": [
    "# Join open addresses to voter files\n",
    "sql_query = \"\"\"\n",
    "CREATE TABLE voters_join AS\n",
    "SELECT a.geom, a.oa_lon, a.oa_lat, a.oa_postcode, a.oa_street_address, a.oa_street, b.* FROM select_all_addresses a LEFT JOIN voter_file_all b ON a.oa_street_address = b.vf_street_address;\n",
    "\"\"\"\n",
    "engine.execute(sql_query)"
   ]
  },
  {
   "cell_type": "code",
   "execution_count": 4,
   "metadata": {},
   "outputs": [
    {
     "data": {
      "text/plain": [
       "<sqlalchemy.engine.result.ResultProxy at 0x11382e400>"
      ]
     },
     "execution_count": 4,
     "metadata": {},
     "output_type": "execute_result"
    }
   ],
   "source": [
    "# create table of voters not joined to open addresses\n",
    "sql_query = \"\"\"\n",
    "CREATE TABLE addresses_not_joined AS\n",
    "SELECT geom, oa_lon, oa_lat, oa_postcode, oa_street_address, oa_street FROM voters_join WHERE vf_voter_file_vanid IS NULL;\n",
    "\"\"\"\n",
    "engine.execute(sql_query)"
   ]
  },
  {
   "cell_type": "code",
   "execution_count": 5,
   "metadata": {},
   "outputs": [
    {
     "data": {
      "text/plain": [
       "(545051, 6)"
      ]
     },
     "execution_count": 5,
     "metadata": {},
     "output_type": "execute_result"
    }
   ],
   "source": [
    "sql_query = \"\"\"\n",
    "SELECT * FROM addresses_not_joined;\n",
    "\"\"\"\n",
    "addresses_not_joined = pd.read_sql_query(sql_query,con)\n",
    "addresses_not_joined.shape"
   ]
  },
  {
   "cell_type": "code",
   "execution_count": 6,
   "metadata": {},
   "outputs": [
    {
     "data": {
      "text/plain": [
       "<sqlalchemy.engine.result.ResultProxy at 0x113817860>"
      ]
     },
     "execution_count": 6,
     "metadata": {},
     "output_type": "execute_result"
    }
   ],
   "source": [
    "# voter_join is now only the voters and addresses joined correctly\n",
    "sql_query = \"\"\"\n",
    "DELETE FROM voters_join\n",
    "WHERE vf_voter_file_vanid IS NULL;\n",
    "\"\"\"\n",
    "engine.execute(sql_query)"
   ]
  },
  {
   "cell_type": "code",
   "execution_count": 44,
   "metadata": {},
   "outputs": [
    {
     "data": {
      "text/plain": [
       "<sqlalchemy.engine.result.ResultProxy at 0x114ddd5c0>"
      ]
     },
     "execution_count": 44,
     "metadata": {},
     "output_type": "execute_result"
    }
   ],
   "source": [
    "sql_query = \"\"\"\n",
    "CREATE TABLE voters_not_joined AS\n",
    "SELECT a.*, b.geom FROM voter_file_all a LEFT JOIN select_all_addresses b ON a.vf_street_address = b.oa_street_address;\n",
    "\"\"\"\n",
    "engine.execute(sql_query)"
   ]
  },
  {
   "cell_type": "code",
   "execution_count": 45,
   "metadata": {},
   "outputs": [
    {
     "data": {
      "text/plain": [
       "<sqlalchemy.engine.result.ResultProxy at 0x114ddd748>"
      ]
     },
     "execution_count": 45,
     "metadata": {},
     "output_type": "execute_result"
    }
   ],
   "source": [
    "# delete voters who were joined, left over is voters not joined\n",
    "sql_query = \"\"\"\n",
    "DELETE FROM voters_not_joined\n",
    "WHERE geom IS NOT NULL;\n",
    "\"\"\"\n",
    "engine.execute(sql_query)"
   ]
  },
  {
   "cell_type": "code",
   "execution_count": 46,
   "metadata": {},
   "outputs": [
    {
     "data": {
      "text/plain": [
       "<sqlalchemy.engine.result.ResultProxy at 0x114ddd8d0>"
      ]
     },
     "execution_count": 46,
     "metadata": {},
     "output_type": "execute_result"
    }
   ],
   "source": [
    "sql_query = \"\"\"\n",
    "ALTER TABLE voters_not_joined\n",
    "DROP geom;\n",
    "\"\"\"\n",
    "engine.execute(sql_query)"
   ]
  },
  {
   "cell_type": "code",
   "execution_count": 47,
   "metadata": {},
   "outputs": [
    {
     "data": {
      "text/plain": [
       "(290508, 24)"
      ]
     },
     "execution_count": 47,
     "metadata": {},
     "output_type": "execute_result"
    }
   ],
   "source": [
    "sql_query = \"\"\"\n",
    "SELECT * FROM voters_not_joined;\n",
    "\"\"\"\n",
    "voters_not_joined = pd.read_sql_query(sql_query,con)\n",
    "voters_not_joined.shape"
   ]
  },
  {
   "cell_type": "code",
   "execution_count": 36,
   "metadata": {},
   "outputs": [],
   "source": [
    "#voters_not_joined.groupby('vf_zip5').nunique()\n",
    "#voters_not_joined_select = voters_not_joined.loc[voters_not_joined.vf_zip5=='76442']\n",
    "#maybe I write a loop by zipcode to do the fuzzy matching"
   ]
  },
  {
   "cell_type": "code",
   "execution_count": 48,
   "metadata": {},
   "outputs": [
    {
     "data": {
      "text/html": [
       "<div>\n",
       "<style scoped>\n",
       "    .dataframe tbody tr th:only-of-type {\n",
       "        vertical-align: middle;\n",
       "    }\n",
       "\n",
       "    .dataframe tbody tr th {\n",
       "        vertical-align: top;\n",
       "    }\n",
       "\n",
       "    .dataframe thead th {\n",
       "        text-align: right;\n",
       "    }\n",
       "</style>\n",
       "<table border=\"1\" class=\"dataframe\">\n",
       "  <thead>\n",
       "    <tr style=\"text-align: right;\">\n",
       "      <th></th>\n",
       "      <th>index</th>\n",
       "      <th>vf_voter_file_vanid</th>\n",
       "      <th>vf_sex</th>\n",
       "      <th>vf_age</th>\n",
       "      <th>vf_streetprefix</th>\n",
       "      <th>vf_streetno</th>\n",
       "      <th>vf_streetname</th>\n",
       "      <th>vf_streettype</th>\n",
       "      <th>vf_apttype</th>\n",
       "      <th>vf_aptno</th>\n",
       "      <th>...</th>\n",
       "      <th>vf_countyname</th>\n",
       "      <th>vf_street_address</th>\n",
       "      <th>vf_street_address_no_prefix</th>\n",
       "      <th>vf_street_address_no_type</th>\n",
       "      <th>vf_residential</th>\n",
       "      <th>vf_multi_unit</th>\n",
       "      <th>vf_PrecinctNamePad</th>\n",
       "      <th>vf_CountyCode</th>\n",
       "      <th>vf_cntyvtd</th>\n",
       "      <th>vf_join_field</th>\n",
       "    </tr>\n",
       "  </thead>\n",
       "  <tbody>\n",
       "    <tr>\n",
       "      <th>0</th>\n",
       "      <td>1443</td>\n",
       "      <td>1993200</td>\n",
       "      <td>F</td>\n",
       "      <td>64</td>\n",
       "      <td></td>\n",
       "      <td>40</td>\n",
       "      <td>Creek Side</td>\n",
       "      <td>Dr</td>\n",
       "      <td></td>\n",
       "      <td></td>\n",
       "      <td>...</td>\n",
       "      <td>Hays</td>\n",
       "      <td>40 CREEK SIDE DR 78676</td>\n",
       "      <td>40 CREEK SIDE DR 78676</td>\n",
       "      <td>40 Creek Side 78676</td>\n",
       "      <td>y</td>\n",
       "      <td>n</td>\n",
       "      <td>0337</td>\n",
       "      <td>209</td>\n",
       "      <td>2090337</td>\n",
       "      <td>1993200</td>\n",
       "    </tr>\n",
       "    <tr>\n",
       "      <th>1</th>\n",
       "      <td>1561</td>\n",
       "      <td>1988372</td>\n",
       "      <td>M</td>\n",
       "      <td>63</td>\n",
       "      <td></td>\n",
       "      <td>430</td>\n",
       "      <td>Jeffery</td>\n",
       "      <td>Ln</td>\n",
       "      <td></td>\n",
       "      <td></td>\n",
       "      <td>...</td>\n",
       "      <td>Coryell</td>\n",
       "      <td>430 JEFFERY LN 76522</td>\n",
       "      <td>430 JEFFERY LN 76522</td>\n",
       "      <td>430 Jeffery 76522</td>\n",
       "      <td>y</td>\n",
       "      <td>n</td>\n",
       "      <td>0207</td>\n",
       "      <td>99</td>\n",
       "      <td>990207</td>\n",
       "      <td>1988372</td>\n",
       "    </tr>\n",
       "    <tr>\n",
       "      <th>2</th>\n",
       "      <td>2895</td>\n",
       "      <td>2005795</td>\n",
       "      <td>M</td>\n",
       "      <td>32</td>\n",
       "      <td></td>\n",
       "      <td>1615</td>\n",
       "      <td>Fraser</td>\n",
       "      <td>Dr</td>\n",
       "      <td></td>\n",
       "      <td></td>\n",
       "      <td>...</td>\n",
       "      <td>Johnson</td>\n",
       "      <td>1615 FRASER DR 76028</td>\n",
       "      <td>1615 FRASER DR 76028</td>\n",
       "      <td>1615 Fraser 76028</td>\n",
       "      <td>y</td>\n",
       "      <td>n</td>\n",
       "      <td>0003</td>\n",
       "      <td>251</td>\n",
       "      <td>2510003</td>\n",
       "      <td>2005795</td>\n",
       "    </tr>\n",
       "    <tr>\n",
       "      <th>3</th>\n",
       "      <td>9163</td>\n",
       "      <td>2358282</td>\n",
       "      <td>M</td>\n",
       "      <td>49</td>\n",
       "      <td>S</td>\n",
       "      <td>1606</td>\n",
       "      <td>Lake</td>\n",
       "      <td>Dr</td>\n",
       "      <td></td>\n",
       "      <td></td>\n",
       "      <td>...</td>\n",
       "      <td>Burnet</td>\n",
       "      <td>1606 S LAKE DR 78654</td>\n",
       "      <td>1606 LAKE DR 78654</td>\n",
       "      <td>1606 Lake 78654</td>\n",
       "      <td>y</td>\n",
       "      <td>n</td>\n",
       "      <td>0018</td>\n",
       "      <td>53</td>\n",
       "      <td>530018</td>\n",
       "      <td>2358282</td>\n",
       "    </tr>\n",
       "    <tr>\n",
       "      <th>4</th>\n",
       "      <td>11801</td>\n",
       "      <td>2275607</td>\n",
       "      <td>F</td>\n",
       "      <td>67</td>\n",
       "      <td></td>\n",
       "      <td>1255</td>\n",
       "      <td>County Road 197</td>\n",
       "      <td></td>\n",
       "      <td></td>\n",
       "      <td></td>\n",
       "      <td>...</td>\n",
       "      <td>Coryell</td>\n",
       "      <td>1255 CR 197 76538</td>\n",
       "      <td>1255 COUNTY ROAD 197  76538</td>\n",
       "      <td>1255 County Road 197 76538</td>\n",
       "      <td>y</td>\n",
       "      <td>n</td>\n",
       "      <td>0415</td>\n",
       "      <td>99</td>\n",
       "      <td>990415</td>\n",
       "      <td>2275607</td>\n",
       "    </tr>\n",
       "  </tbody>\n",
       "</table>\n",
       "<p>5 rows × 24 columns</p>\n",
       "</div>"
      ],
      "text/plain": [
       "   index vf_voter_file_vanid vf_sex vf_age vf_streetprefix vf_streetno  \\\n",
       "0   1443             1993200      F     64                          40   \n",
       "1   1561             1988372      M     63                         430   \n",
       "2   2895             2005795      M     32                        1615   \n",
       "3   9163             2358282      M     49               S        1606   \n",
       "4  11801             2275607      F     67                        1255   \n",
       "\n",
       "     vf_streetname vf_streettype vf_apttype vf_aptno      ...       \\\n",
       "0       Creek Side            Dr                          ...        \n",
       "1          Jeffery            Ln                          ...        \n",
       "2           Fraser            Dr                          ...        \n",
       "3             Lake            Dr                          ...        \n",
       "4  County Road 197                                        ...        \n",
       "\n",
       "  vf_countyname       vf_street_address  vf_street_address_no_prefix  \\\n",
       "0          Hays  40 CREEK SIDE DR 78676       40 CREEK SIDE DR 78676   \n",
       "1       Coryell    430 JEFFERY LN 76522         430 JEFFERY LN 76522   \n",
       "2       Johnson    1615 FRASER DR 76028         1615 FRASER DR 76028   \n",
       "3        Burnet    1606 S LAKE DR 78654           1606 LAKE DR 78654   \n",
       "4       Coryell       1255 CR 197 76538  1255 COUNTY ROAD 197  76538   \n",
       "\n",
       "    vf_street_address_no_type vf_residential vf_multi_unit vf_PrecinctNamePad  \\\n",
       "0         40 Creek Side 78676              y             n               0337   \n",
       "1           430 Jeffery 76522              y             n               0207   \n",
       "2           1615 Fraser 76028              y             n               0003   \n",
       "3             1606 Lake 78654              y             n               0018   \n",
       "4  1255 County Road 197 76538              y             n               0415   \n",
       "\n",
       "  vf_CountyCode vf_cntyvtd vf_join_field  \n",
       "0           209    2090337       1993200  \n",
       "1            99     990207       1988372  \n",
       "2           251    2510003       2005795  \n",
       "3            53     530018       2358282  \n",
       "4            99     990415       2275607  \n",
       "\n",
       "[5 rows x 24 columns]"
      ]
     },
     "execution_count": 48,
     "metadata": {},
     "output_type": "execute_result"
    }
   ],
   "source": [
    "voters_not_joined.head()"
   ]
  },
  {
   "cell_type": "code",
   "execution_count": 37,
   "metadata": {},
   "outputs": [],
   "source": [
    "# STOP TO DO GEOCODING OF VOTERS NOT JOINED AND RDI CHECK OF ADDRESSES NOT JOINED"
   ]
  },
  {
   "cell_type": "code",
   "execution_count": 11,
   "metadata": {},
   "outputs": [
    {
     "data": {
      "text/plain": [
       "<sqlalchemy.engine.result.ResultProxy at 0x122f6cc88>"
      ]
     },
     "execution_count": 11,
     "metadata": {},
     "output_type": "execute_result"
    }
   ],
   "source": [
    "# create table voters_not_joined_geocoded by joining geocoded voters not joined with original table that identified them, tx25_join_check2\n",
    "sql_query = \"\"\"\n",
    "CREATE TABLE voters_not_joined_geocoded AS\n",
    "SELECT a.*, b.geom FROM voters_not_joined a LEFT JOIN smarty_streets_geocode b ON a.vf_street_address = b.vf_street_address;\n",
    "\"\"\"\n",
    "engine.execute(sql_query)"
   ]
  },
  {
   "cell_type": "code",
   "execution_count": 13,
   "metadata": {},
   "outputs": [
    {
     "data": {
      "text/plain": [
       "<sqlalchemy.engine.result.ResultProxy at 0x122f6c400>"
      ]
     },
     "execution_count": 13,
     "metadata": {},
     "output_type": "execute_result"
    }
   ],
   "source": [
    "# now append voters_not_joined_geocoded to voters_join\n",
    "sql_query = \"\"\"\n",
    "INSERT INTO voters_join (geom, vf_voter_file_vanid, vf_sex, vf_age, vf_street_address, vf_multi_unit, vf_cntyvtd)\n",
    "SELECT geom, vf_voter_file_vanid, vf_sex, vf_age, vf_street_address, vf_multi_unit, vf_cntyvtd\n",
    "FROM voters_not_joined_geocoded;\n",
    "\"\"\"\n",
    "engine.execute(sql_query)"
   ]
  },
  {
   "cell_type": "code",
   "execution_count": 16,
   "metadata": {},
   "outputs": [
    {
     "data": {
      "text/plain": [
       "<sqlalchemy.engine.result.ResultProxy at 0x122fb6a90>"
      ]
     },
     "execution_count": 16,
     "metadata": {},
     "output_type": "execute_result"
    }
   ],
   "source": [
    "sql_query = \"\"\"\n",
    "CREATE TABLE voters_join_3081 AS\n",
    "    SELECT * FROM voters_join;\n",
    "\"\"\"\n",
    "engine.execute(sql_query)"
   ]
  },
  {
   "cell_type": "code",
   "execution_count": 17,
   "metadata": {},
   "outputs": [
    {
     "data": {
      "text/plain": [
       "<sqlalchemy.engine.result.ResultProxy at 0x122fb6748>"
      ]
     },
     "execution_count": 17,
     "metadata": {},
     "output_type": "execute_result"
    }
   ],
   "source": [
    "sql_query = \"\"\"\n",
    "ALTER TABLE voters_join_3081 \n",
    "   ALTER COLUMN geom \n",
    "   TYPE Geometry(Point, 3081) \n",
    "   USING ST_Transform(geom, 3081);\n",
    "\"\"\"\n",
    "engine.execute(sql_query)"
   ]
  },
  {
   "cell_type": "code",
   "execution_count": 18,
   "metadata": {},
   "outputs": [
    {
     "data": {
      "text/plain": [
       "<sqlalchemy.engine.result.ResultProxy at 0x122fb6f28>"
      ]
     },
     "execution_count": 18,
     "metadata": {},
     "output_type": "execute_result"
    }
   ],
   "source": [
    "sql_query = \"\"\"\n",
    "CREATE INDEX voters_join_3081_gix ON voters_join_3081 USING GIST (geom);\n",
    "\"\"\"\n",
    "engine.execute(sql_query)"
   ]
  },
  {
   "cell_type": "code",
   "execution_count": null,
   "metadata": {},
   "outputs": [],
   "source": []
  },
  {
   "cell_type": "code",
   "execution_count": null,
   "metadata": {},
   "outputs": [],
   "source": [
    "## START HERE WHEN RDI CHECK DONE"
   ]
  },
  {
   "cell_type": "code",
   "execution_count": null,
   "metadata": {},
   "outputs": [],
   "source": [
    "# Copy and project tables that I need for DWithin, calculate indices\n",
    "# I could have used this projection from the beginning\n",
    "sql_query = \"\"\"\n",
    "CREATE TABLE tx25_addresses_not_joined2_3081 AS\n",
    "    SELECT * FROM tx25_addresses_not_joined2\n",
    "\"\"\"\n",
    "engine.execute(sql_query)"
   ]
  },
  {
   "cell_type": "code",
   "execution_count": null,
   "metadata": {},
   "outputs": [],
   "source": [
    "sql_query = \"\"\"\n",
    "ALTER TABLE tx25_addresses_not_joined2_3081 \n",
    "   ALTER COLUMN geom \n",
    "   TYPE Geometry(Point, 3081) \n",
    "   USING ST_Transform(geom, 3081);\n",
    "\"\"\"\n",
    "engine.execute(sql_query)"
   ]
  },
  {
   "cell_type": "code",
   "execution_count": null,
   "metadata": {},
   "outputs": [],
   "source": [
    "sql_query = \"\"\"\n",
    "CREATE INDEX tx25_addresses_not_joined2_3081_gix ON tx25_addresses_not_joined2_3081 USING GIST (geom);\n",
    "\"\"\"\n",
    "engine.execute(sql_query)"
   ]
  },
  {
   "cell_type": "code",
   "execution_count": 16,
   "metadata": {},
   "outputs": [
    {
     "data": {
      "text/plain": [
       "<sqlalchemy.engine.result.ResultProxy at 0x10f3ce080>"
      ]
     },
     "execution_count": 16,
     "metadata": {},
     "output_type": "execute_result"
    }
   ],
   "source": [
    "sql_query = \"\"\"\n",
    "ALTER TABLE tx25_addresses_not_joined2_3081\n",
    "ADD COLUMN tx25_join_mask integer;\n",
    "\"\"\"\n",
    "engine.execute(sql_query)"
   ]
  },
  {
   "cell_type": "code",
   "execution_count": 24,
   "metadata": {},
   "outputs": [
    {
     "data": {
      "text/plain": [
       "<sqlalchemy.engine.result.ResultProxy at 0x15e79b2b0>"
      ]
     },
     "execution_count": 24,
     "metadata": {},
     "output_type": "execute_result"
    }
   ],
   "source": [
    "sql_query = \"\"\"\n",
    "UPDATE tx25_addresses_not_joined2_3081\n",
    "SET \"tx25_join_mask\" = 0;\n",
    "\"\"\"\n",
    "engine.execute(sql_query)"
   ]
  },
  {
   "cell_type": "code",
   "execution_count": 25,
   "metadata": {},
   "outputs": [
    {
     "data": {
      "text/plain": [
       "<sqlalchemy.engine.result.ResultProxy at 0x117d3d240>"
      ]
     },
     "execution_count": 25,
     "metadata": {},
     "output_type": "execute_result"
    }
   ],
   "source": [
    "sql_query = \"\"\"\n",
    "UPDATE tx25_addresses_not_joined2_3081 dst\n",
    "SET \"tx25_join_mask\" = 1\n",
    "FROM tx25_join_3081 src\n",
    "WHERE ST_DWITHIN(src.geom,dst.geom,10);\n",
    "\"\"\"\n",
    "engine.execute(sql_query)"
   ]
  },
  {
   "cell_type": "code",
   "execution_count": 28,
   "metadata": {},
   "outputs": [
    {
     "data": {
      "text/plain": [
       "<sqlalchemy.engine.result.ResultProxy at 0x15e79bb38>"
      ]
     },
     "execution_count": 28,
     "metadata": {},
     "output_type": "execute_result"
    }
   ],
   "source": [
    "sql_query = \"\"\"\n",
    "CREATE TABLE final_addresses_not_joined AS \n",
    "SELECT a.*, b.residential, b.vacant FROM tx25_addresses_not_joined2_3081 a LEFT JOIN smarty_streets_rdi_check b ON a.oa_street_address = b.oa_street_address;\n",
    "\"\"\"\n",
    "engine.execute(sql_query)"
   ]
  },
  {
   "cell_type": "code",
   "execution_count": 34,
   "metadata": {},
   "outputs": [
    {
     "data": {
      "text/plain": [
       "<sqlalchemy.engine.result.ResultProxy at 0x15e79b898>"
      ]
     },
     "execution_count": 34,
     "metadata": {},
     "output_type": "execute_result"
    }
   ],
   "source": [
    "sql_query = \"\"\"\n",
    "DELETE FROM final_addresses_not_joined\n",
    "WHERE residential != 'Residential' OR tx25_join_mask = 1;\n",
    "\"\"\"\n",
    "engine.execute(sql_query)"
   ]
  },
  {
   "cell_type": "code",
   "execution_count": null,
   "metadata": {},
   "outputs": [],
   "source": [
    "# I am going to need to check these last two to queries to figure out how I need to change them."
   ]
  },
  {
   "cell_type": "code",
   "execution_count": 5,
   "metadata": {},
   "outputs": [
    {
     "data": {
      "text/plain": [
       "<sqlalchemy.engine.result.ResultProxy at 0x1172a1a58>"
      ]
     },
     "execution_count": 5,
     "metadata": {},
     "output_type": "execute_result"
    }
   ],
   "source": [
    "# this is a bit slow\n",
    "# could figure out how to counting in SQL, includes GROUP BY and COUNT\n",
    "sql_query = \"\"\"\n",
    "CREATE TABLE registered_addresses_by_vtd AS\n",
    "SELECT a.cntyvtd FROM vtds_tx a, tx25_join b \n",
    "    WHERE b.voter_file_vanid IS NOT NULL AND ST_Intersects(a.geom,b.geom);\n",
    "\"\"\"\n",
    "engine.execute(sql_query)"
   ]
  },
  {
   "cell_type": "code",
   "execution_count": 4,
   "metadata": {},
   "outputs": [],
   "source": [
    "sql_query = \"\"\"\n",
    "SELECT * FROM tx25_join_check WHERE geom IS NULL;\n",
    "\"\"\"\n",
    "voters_not_joined = pd.read_sql_query(sql_query,con)\n",
    "voters_not_joined.to_csv(\"/Users/codyschank/Dropbox/Insight/voters_not_joined.csv\")\n",
    "# Voters not matched to an address"
   ]
  }
 ],
 "metadata": {
  "kernelspec": {
   "display_name": "Python 3",
   "language": "python",
   "name": "python3"
  },
  "language_info": {
   "codemirror_mode": {
    "name": "ipython",
    "version": 3
   },
   "file_extension": ".py",
   "mimetype": "text/x-python",
   "name": "python",
   "nbconvert_exporter": "python",
   "pygments_lexer": "ipython3",
   "version": "3.6.5"
  }
 },
 "nbformat": 4,
 "nbformat_minor": 2
}
