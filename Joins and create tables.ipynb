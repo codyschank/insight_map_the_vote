{
 "cells": [
  {
   "cell_type": "code",
   "execution_count": 2,
   "metadata": {},
   "outputs": [],
   "source": [
    "import psycopg2\n",
    "import numpy\n",
    "\n",
    "import pandas as pd\n",
    "import geopandas as gpd\n",
    "import matplotlib.pyplot as plt\n",
    "\n",
    "from sqlalchemy import create_engine\n",
    "from sqlalchemy_utils import database_exists, create_database\n",
    "from geoalchemy2 import Geometry, WKTElement\n",
    "from shapely.geometry import Point"
   ]
  },
  {
   "cell_type": "code",
   "execution_count": 3,
   "metadata": {},
   "outputs": [
    {
     "name": "stdout",
     "output_type": "stream",
     "text": [
      "postgres://codyschank@localhost/map_the_vote\n",
      "True\n"
     ]
    }
   ],
   "source": [
    "# Define a database name (we're using a dataset on births, so we'll call it birth_db)\n",
    "# Set your postgres username\n",
    "dbname = 'map_the_vote'\n",
    "username = 'codyschank' # change this to your username\n",
    "\n",
    "engine = create_engine('postgres://%s@localhost/%s'%(username,dbname))\n",
    "print(engine.url)\n",
    "\n",
    "## create a database (if it doesn't exist)\n",
    "if not database_exists(engine.url):\n",
    "    create_database(engine.url)\n",
    "print(database_exists(engine.url))"
   ]
  },
  {
   "cell_type": "code",
   "execution_count": 4,
   "metadata": {},
   "outputs": [],
   "source": [
    "# Connect to make queries using psycopg2\n",
    "con = None\n",
    "con = psycopg2.connect(database = dbname, user = username)"
   ]
  },
  {
   "cell_type": "code",
   "execution_count": null,
   "metadata": {},
   "outputs": [],
   "source": [
    "# intersect with districts where I have voter files\n",
    "# check that both of these geom fields have indexes\n",
    "sql_query = \"\"\"\n",
    "CREATE TABLE select_all_addresses AS\n",
    "SELECT b.* FROM us_congressional_districts a, addresses_table_tx_no_dupes b \n",
    "    WHERE ST_Intersects(a.geom,b.geom) AND a.geoid IN ('4821','4825','4810');\n",
    "\"\"\"\n",
    "engine.execute(sql_query)"
   ]
  },
  {
   "cell_type": "code",
   "execution_count": 4,
   "metadata": {},
   "outputs": [
    {
     "data": {
      "text/plain": [
       "<sqlalchemy.engine.result.ResultProxy at 0x12281cba8>"
      ]
     },
     "execution_count": 4,
     "metadata": {},
     "output_type": "execute_result"
    }
   ],
   "source": [
    "sql_query = \"\"\"\n",
    "CREATE INDEX vf_street_address_idx ON voter_file_all (vf_street_address);\n",
    "\"\"\"\n",
    "engine.execute(sql_query)"
   ]
  },
  {
   "cell_type": "code",
   "execution_count": 5,
   "metadata": {},
   "outputs": [
    {
     "data": {
      "text/plain": [
       "<sqlalchemy.engine.result.ResultProxy at 0x11ded4e80>"
      ]
     },
     "execution_count": 5,
     "metadata": {},
     "output_type": "execute_result"
    }
   ],
   "source": [
    "sql_query = \"\"\"\n",
    "CREATE INDEX oa_street_address_idx ON select_all_addresses (oa_street_address);\n",
    "\"\"\"\n",
    "engine.execute(sql_query)"
   ]
  },
  {
   "cell_type": "code",
   "execution_count": 5,
   "metadata": {},
   "outputs": [
    {
     "data": {
      "text/plain": [
       "<sqlalchemy.engine.result.ResultProxy at 0x1228115f8>"
      ]
     },
     "execution_count": 5,
     "metadata": {},
     "output_type": "execute_result"
    }
   ],
   "source": [
    "# Join open addresses to voter files\n",
    "sql_query = \"\"\"\n",
    "CREATE TABLE voters_join AS\n",
    "SELECT a.geom, a.oa_lon, a.oa_lat, a.oa_number, a.oa_postcode, a.oa_street_address, a.oa_street, b.* FROM select_all_addresses a LEFT JOIN voter_file_all b ON a.oa_street_address = b.vf_street_address;\n",
    "\"\"\"\n",
    "engine.execute(sql_query)"
   ]
  },
  {
   "cell_type": "code",
   "execution_count": 6,
   "metadata": {},
   "outputs": [
    {
     "data": {
      "text/plain": [
       "<sqlalchemy.engine.result.ResultProxy at 0x1228119e8>"
      ]
     },
     "execution_count": 6,
     "metadata": {},
     "output_type": "execute_result"
    }
   ],
   "source": [
    "# create table of voters not joined to open addresses\n",
    "sql_query = \"\"\"\n",
    "CREATE TABLE addresses_not_joined AS\n",
    "SELECT geom, oa_lon, oa_lat, oa_number, oa_postcode, oa_street_address, oa_street FROM voters_join WHERE vf_voter_file_vanid IS NULL;\n",
    "\"\"\"\n",
    "engine.execute(sql_query)"
   ]
  },
  {
   "cell_type": "code",
   "execution_count": 7,
   "metadata": {},
   "outputs": [
    {
     "data": {
      "text/plain": [
       "<sqlalchemy.engine.result.ResultProxy at 0x12281c940>"
      ]
     },
     "execution_count": 7,
     "metadata": {},
     "output_type": "execute_result"
    }
   ],
   "source": [
    "# voter_join is now only the voters and addresses joined correctly\n",
    "sql_query = \"\"\"\n",
    "DELETE FROM voters_join\n",
    "WHERE vf_voter_file_vanid IS NULL;\n",
    "\"\"\"\n",
    "engine.execute(sql_query)"
   ]
  },
  {
   "cell_type": "code",
   "execution_count": 8,
   "metadata": {},
   "outputs": [
    {
     "data": {
      "text/plain": [
       "<sqlalchemy.engine.result.ResultProxy at 0x12281cc88>"
      ]
     },
     "execution_count": 8,
     "metadata": {},
     "output_type": "execute_result"
    }
   ],
   "source": [
    "sql_query = \"\"\"\n",
    "CREATE TABLE voters_not_joined AS\n",
    "SELECT a.*, b.geom FROM voter_file_all a LEFT JOIN select_all_addresses b ON a.vf_street_address = b.oa_street_address;\n",
    "\"\"\"\n",
    "engine.execute(sql_query)"
   ]
  },
  {
   "cell_type": "code",
   "execution_count": 9,
   "metadata": {},
   "outputs": [
    {
     "data": {
      "text/plain": [
       "<sqlalchemy.engine.result.ResultProxy at 0x12281ca20>"
      ]
     },
     "execution_count": 9,
     "metadata": {},
     "output_type": "execute_result"
    }
   ],
   "source": [
    "# delete voters who were joined, left over is voters not joined\n",
    "sql_query = \"\"\"\n",
    "DELETE FROM voters_not_joined\n",
    "WHERE geom IS NOT NULL;\n",
    "\"\"\"\n",
    "engine.execute(sql_query)"
   ]
  },
  {
   "cell_type": "code",
   "execution_count": 10,
   "metadata": {},
   "outputs": [
    {
     "data": {
      "text/plain": [
       "<sqlalchemy.engine.result.ResultProxy at 0x12281c908>"
      ]
     },
     "execution_count": 10,
     "metadata": {},
     "output_type": "execute_result"
    }
   ],
   "source": [
    "sql_query = \"\"\"\n",
    "ALTER TABLE voters_not_joined\n",
    "DROP geom;\n",
    "\"\"\"\n",
    "engine.execute(sql_query)"
   ]
  },
  {
   "cell_type": "code",
   "execution_count": 11,
   "metadata": {},
   "outputs": [
    {
     "data": {
      "text/html": [
       "<div>\n",
       "<style scoped>\n",
       "    .dataframe tbody tr th:only-of-type {\n",
       "        vertical-align: middle;\n",
       "    }\n",
       "\n",
       "    .dataframe tbody tr th {\n",
       "        vertical-align: top;\n",
       "    }\n",
       "\n",
       "    .dataframe thead th {\n",
       "        text-align: right;\n",
       "    }\n",
       "</style>\n",
       "<table border=\"1\" class=\"dataframe\">\n",
       "  <thead>\n",
       "    <tr style=\"text-align: right;\">\n",
       "      <th></th>\n",
       "      <th>count</th>\n",
       "    </tr>\n",
       "  </thead>\n",
       "  <tbody>\n",
       "    <tr>\n",
       "      <th>0</th>\n",
       "      <td>238708</td>\n",
       "    </tr>\n",
       "  </tbody>\n",
       "</table>\n",
       "</div>"
      ],
      "text/plain": [
       "    count\n",
       "0  238708"
      ]
     },
     "execution_count": 11,
     "metadata": {},
     "output_type": "execute_result"
    }
   ],
   "source": [
    "sql_query = \"\"\"\n",
    "SELECT COUNT(*) FROM voters_not_joined;\n",
    "\"\"\"\n",
    "pd.read_sql_query(sql_query,con)"
   ]
  },
  {
   "cell_type": "code",
   "execution_count": 37,
   "metadata": {},
   "outputs": [],
   "source": [
    "# STOP TO DO Fuzzy Matching\n",
    "# In Geocoding and RDI Check, now use the tables after fuzzy matching\n",
    "# STOP TO DO GEOCODING OF VOTERS NOT JOINED AND RDI CHECK OF ADDRESSES NOT JOINED"
   ]
  },
  {
   "cell_type": "code",
   "execution_count": 5,
   "metadata": {},
   "outputs": [
    {
     "data": {
      "text/plain": [
       "<sqlalchemy.engine.result.ResultProxy at 0x11e2a9ba8>"
      ]
     },
     "execution_count": 5,
     "metadata": {},
     "output_type": "execute_result"
    }
   ],
   "source": [
    "# create table voters_not_joined_geocoded by joining geocoded voters not joined with original table that identified them, tx25_join_check2\n",
    "sql_query = \"\"\"\n",
    "CREATE TABLE voters_not_joined_geocoded AS\n",
    "SELECT a.*, b.geom FROM voters_still_not_joined a LEFT JOIN smarty_streets_geocode b ON a.vf_street_address = b.vf_street_address;\n",
    "\"\"\"\n",
    "engine.execute(sql_query)"
   ]
  },
  {
   "cell_type": "code",
   "execution_count": 6,
   "metadata": {},
   "outputs": [
    {
     "data": {
      "text/html": [
       "<div>\n",
       "<style scoped>\n",
       "    .dataframe tbody tr th:only-of-type {\n",
       "        vertical-align: middle;\n",
       "    }\n",
       "\n",
       "    .dataframe tbody tr th {\n",
       "        vertical-align: top;\n",
       "    }\n",
       "\n",
       "    .dataframe thead th {\n",
       "        text-align: right;\n",
       "    }\n",
       "</style>\n",
       "<table border=\"1\" class=\"dataframe\">\n",
       "  <thead>\n",
       "    <tr style=\"text-align: right;\">\n",
       "      <th></th>\n",
       "      <th>count</th>\n",
       "    </tr>\n",
       "  </thead>\n",
       "  <tbody>\n",
       "    <tr>\n",
       "      <th>0</th>\n",
       "      <td>11710</td>\n",
       "    </tr>\n",
       "  </tbody>\n",
       "</table>\n",
       "</div>"
      ],
      "text/plain": [
       "   count\n",
       "0  11710"
      ]
     },
     "execution_count": 6,
     "metadata": {},
     "output_type": "execute_result"
    }
   ],
   "source": [
    "sql_query = \"\"\"\n",
    "SELECT COUNT(*) FROM voters_not_joined_geocoded WHERE geom IS NULL;\n",
    "\"\"\"\n",
    "pd.read_sql_query(sql_query,con)"
   ]
  },
  {
   "cell_type": "code",
   "execution_count": 7,
   "metadata": {},
   "outputs": [
    {
     "data": {
      "text/plain": [
       "<sqlalchemy.engine.result.ResultProxy at 0x11e3b80b8>"
      ]
     },
     "execution_count": 7,
     "metadata": {},
     "output_type": "execute_result"
    }
   ],
   "source": [
    "# now append voters_not_joined_geocoded to voters_join\n",
    "# I should reconsider doing an insert here, since it means I will need to redo the original join if I want to change anything\n",
    "# maybe I can add a field that tells how the record was geocoded, althought, that should be recorded by whether the row has an oa_address\n",
    "sql_query = \"\"\"\n",
    "INSERT INTO voters_join (geom, vf_voter_file_vanid, vf_sex, vf_age, vf_street_address, vf_multi_unit, vf_cntyvtd)\n",
    "SELECT geom, vf_voter_file_vanid, vf_sex, vf_age, vf_street_address, vf_multi_unit, vf_cntyvtd\n",
    "FROM voters_not_joined_geocoded;\n",
    "\"\"\"\n",
    "engine.execute(sql_query)"
   ]
  },
  {
   "cell_type": "code",
   "execution_count": 8,
   "metadata": {},
   "outputs": [
    {
     "data": {
      "text/plain": [
       "<sqlalchemy.engine.result.ResultProxy at 0x11e3b8240>"
      ]
     },
     "execution_count": 8,
     "metadata": {},
     "output_type": "execute_result"
    }
   ],
   "source": [
    "# now append oa_fuzzy_join to voters_join\n",
    "# I should reconsider doing an insert here, since it means I will need to redo the original join if I want to change anything\n",
    "# maybe I can add a field that tells how the record was geocoded, althought, that should be recorded by whether the row has an oa_address\n",
    "sql_query = \"\"\"\n",
    "INSERT INTO voters_join (geom, vf_voter_file_vanid, vf_sex, vf_age, vf_street_address, vf_multi_unit, vf_cntyvtd)\n",
    "SELECT geom, vf_voter_file_vanid, vf_sex, vf_age, vf_street_address, vf_multi_unit, vf_cntyvtd\n",
    "FROM oa_fuzzy_join;\n",
    "\"\"\"\n",
    "engine.execute(sql_query)"
   ]
  },
  {
   "cell_type": "code",
   "execution_count": 9,
   "metadata": {},
   "outputs": [
    {
     "data": {
      "text/html": [
       "<div>\n",
       "<style scoped>\n",
       "    .dataframe tbody tr th:only-of-type {\n",
       "        vertical-align: middle;\n",
       "    }\n",
       "\n",
       "    .dataframe tbody tr th {\n",
       "        vertical-align: top;\n",
       "    }\n",
       "\n",
       "    .dataframe thead th {\n",
       "        text-align: right;\n",
       "    }\n",
       "</style>\n",
       "<table border=\"1\" class=\"dataframe\">\n",
       "  <thead>\n",
       "    <tr style=\"text-align: right;\">\n",
       "      <th></th>\n",
       "      <th>count</th>\n",
       "    </tr>\n",
       "  </thead>\n",
       "  <tbody>\n",
       "    <tr>\n",
       "      <th>0</th>\n",
       "      <td>1441170</td>\n",
       "    </tr>\n",
       "  </tbody>\n",
       "</table>\n",
       "</div>"
      ],
      "text/plain": [
       "     count\n",
       "0  1441170"
      ]
     },
     "execution_count": 9,
     "metadata": {},
     "output_type": "execute_result"
    }
   ],
   "source": [
    "sql_query = \"\"\"\n",
    "SELECT COUNT(*) FROM voters_join;\n",
    "\"\"\"\n",
    "pd.read_sql_query(sql_query,con)"
   ]
  },
  {
   "cell_type": "code",
   "execution_count": 10,
   "metadata": {},
   "outputs": [
    {
     "data": {
      "text/plain": [
       "<sqlalchemy.engine.result.ResultProxy at 0x11e3b85c0>"
      ]
     },
     "execution_count": 10,
     "metadata": {},
     "output_type": "execute_result"
    }
   ],
   "source": [
    "sql_query = \"\"\"\n",
    "CREATE TABLE voters_not_joined_geocoded_3081 AS\n",
    "    SELECT * FROM voters_not_joined_geocoded;\n",
    "\"\"\"\n",
    "engine.execute(sql_query)"
   ]
  },
  {
   "cell_type": "code",
   "execution_count": 11,
   "metadata": {},
   "outputs": [
    {
     "data": {
      "text/plain": [
       "<sqlalchemy.engine.result.ResultProxy at 0x11e3b8710>"
      ]
     },
     "execution_count": 11,
     "metadata": {},
     "output_type": "execute_result"
    }
   ],
   "source": [
    "sql_query = \"\"\"\n",
    "ALTER TABLE voters_not_joined_geocoded_3081 \n",
    "   ALTER COLUMN geom \n",
    "   TYPE Geometry(Point, 3081) \n",
    "   USING ST_Transform(geom, 3081);\n",
    "\"\"\"\n",
    "engine.execute(sql_query)"
   ]
  },
  {
   "cell_type": "code",
   "execution_count": 12,
   "metadata": {},
   "outputs": [
    {
     "data": {
      "text/plain": [
       "<sqlalchemy.engine.result.ResultProxy at 0x11e3b8898>"
      ]
     },
     "execution_count": 12,
     "metadata": {},
     "output_type": "execute_result"
    }
   ],
   "source": [
    "sql_query = \"\"\"\n",
    "CREATE INDEX voters_not_joined_geocoded_3081_gix ON voters_not_joined_geocoded_3081 USING GIST (geom);\n",
    "\"\"\"\n",
    "engine.execute(sql_query)"
   ]
  },
  {
   "cell_type": "code",
   "execution_count": 13,
   "metadata": {},
   "outputs": [
    {
     "data": {
      "text/plain": [
       "<sqlalchemy.engine.result.ResultProxy at 0x11e2a9c88>"
      ]
     },
     "execution_count": 13,
     "metadata": {},
     "output_type": "execute_result"
    }
   ],
   "source": [
    "# Copy and project tables that I need for DWithin, calculate indices\n",
    "# I could have used this projection from the beginning\n",
    "sql_query = \"\"\"\n",
    "CREATE TABLE addresses_still_not_joined_3081 AS\n",
    "    SELECT * FROM addresses_still_not_joined;\n",
    "\"\"\"\n",
    "engine.execute(sql_query)"
   ]
  },
  {
   "cell_type": "code",
   "execution_count": 14,
   "metadata": {},
   "outputs": [
    {
     "data": {
      "text/plain": [
       "<sqlalchemy.engine.result.ResultProxy at 0x11e3b8be0>"
      ]
     },
     "execution_count": 14,
     "metadata": {},
     "output_type": "execute_result"
    }
   ],
   "source": [
    "sql_query = \"\"\"\n",
    "ALTER TABLE addresses_still_not_joined_3081 \n",
    "   ALTER COLUMN geom \n",
    "   TYPE Geometry(Point, 3081) \n",
    "   USING ST_Transform(geom, 3081);\n",
    "\"\"\"\n",
    "engine.execute(sql_query)"
   ]
  },
  {
   "cell_type": "code",
   "execution_count": 15,
   "metadata": {},
   "outputs": [
    {
     "data": {
      "text/plain": [
       "<sqlalchemy.engine.result.ResultProxy at 0x11e3b8d30>"
      ]
     },
     "execution_count": 15,
     "metadata": {},
     "output_type": "execute_result"
    }
   ],
   "source": [
    "sql_query = \"\"\"\n",
    "CREATE INDEX addresses_still_not_joined_3081_gix ON addresses_still_not_joined_3081 USING GIST (geom);\n",
    "\"\"\"\n",
    "engine.execute(sql_query)"
   ]
  },
  {
   "cell_type": "code",
   "execution_count": 16,
   "metadata": {},
   "outputs": [
    {
     "data": {
      "text/plain": [
       "<sqlalchemy.engine.result.ResultProxy at 0x11e3b8ef0>"
      ]
     },
     "execution_count": 16,
     "metadata": {},
     "output_type": "execute_result"
    }
   ],
   "source": [
    "# this table might come in handy, but right now don't have a need for it\n",
    "sql_query = \"\"\"\n",
    "CREATE TABLE voters_join_3081 AS\n",
    "    SELECT * FROM voters_join;\n",
    "\"\"\"\n",
    "engine.execute(sql_query)"
   ]
  },
  {
   "cell_type": "code",
   "execution_count": 17,
   "metadata": {},
   "outputs": [
    {
     "data": {
      "text/plain": [
       "<sqlalchemy.engine.result.ResultProxy at 0x11e3c20b8>"
      ]
     },
     "execution_count": 17,
     "metadata": {},
     "output_type": "execute_result"
    }
   ],
   "source": [
    "sql_query = \"\"\"\n",
    "ALTER TABLE voters_join_3081 \n",
    "   ALTER COLUMN geom \n",
    "   TYPE Geometry(Point, 3081) \n",
    "   USING ST_Transform(geom, 3081);\n",
    "\"\"\"\n",
    "engine.execute(sql_query)"
   ]
  },
  {
   "cell_type": "code",
   "execution_count": 18,
   "metadata": {},
   "outputs": [
    {
     "data": {
      "text/plain": [
       "<sqlalchemy.engine.result.ResultProxy at 0x11e3c2208>"
      ]
     },
     "execution_count": 18,
     "metadata": {},
     "output_type": "execute_result"
    }
   ],
   "source": [
    "sql_query = \"\"\"\n",
    "CREATE INDEX voters_join_3081_gix ON voters_join_3081 USING GIST (geom);\n",
    "\"\"\"\n",
    "engine.execute(sql_query)"
   ]
  },
  {
   "cell_type": "code",
   "execution_count": 19,
   "metadata": {},
   "outputs": [
    {
     "data": {
      "text/plain": [
       "<sqlalchemy.engine.result.ResultProxy at 0x11e3c2358>"
      ]
     },
     "execution_count": 19,
     "metadata": {},
     "output_type": "execute_result"
    }
   ],
   "source": [
    "sql_query = \"\"\"\n",
    "ALTER TABLE addresses_still_not_joined_3081\n",
    "ADD COLUMN join_mask integer;\n",
    "\"\"\"\n",
    "engine.execute(sql_query)"
   ]
  },
  {
   "cell_type": "code",
   "execution_count": 20,
   "metadata": {},
   "outputs": [
    {
     "data": {
      "text/plain": [
       "<sqlalchemy.engine.result.ResultProxy at 0x11e3b8b70>"
      ]
     },
     "execution_count": 20,
     "metadata": {},
     "output_type": "execute_result"
    }
   ],
   "source": [
    "sql_query = \"\"\"\n",
    "UPDATE addresses_still_not_joined_3081\n",
    "SET \"join_mask\" = 0;\n",
    "\"\"\"\n",
    "engine.execute(sql_query)"
   ]
  },
  {
   "cell_type": "code",
   "execution_count": 21,
   "metadata": {},
   "outputs": [
    {
     "data": {
      "text/plain": [
       "<sqlalchemy.engine.result.ResultProxy at 0x11e3c26d8>"
      ]
     },
     "execution_count": 21,
     "metadata": {},
     "output_type": "execute_result"
    }
   ],
   "source": [
    "sql_query = \"\"\"\n",
    "UPDATE addresses_still_not_joined_3081 dst\n",
    "SET \"join_mask\" = 1\n",
    "FROM voters_not_joined_geocoded_3081 src\n",
    "WHERE ST_DWITHIN(src.geom,dst.geom,10);\n",
    "\"\"\"\n",
    "engine.execute(sql_query)"
   ]
  },
  {
   "cell_type": "code",
   "execution_count": 22,
   "metadata": {},
   "outputs": [
    {
     "data": {
      "text/html": [
       "<div>\n",
       "<style scoped>\n",
       "    .dataframe tbody tr th:only-of-type {\n",
       "        vertical-align: middle;\n",
       "    }\n",
       "\n",
       "    .dataframe tbody tr th {\n",
       "        vertical-align: top;\n",
       "    }\n",
       "\n",
       "    .dataframe thead th {\n",
       "        text-align: right;\n",
       "    }\n",
       "</style>\n",
       "<table border=\"1\" class=\"dataframe\">\n",
       "  <thead>\n",
       "    <tr style=\"text-align: right;\">\n",
       "      <th></th>\n",
       "      <th>count</th>\n",
       "    </tr>\n",
       "  </thead>\n",
       "  <tbody>\n",
       "    <tr>\n",
       "      <th>0</th>\n",
       "      <td>1131</td>\n",
       "    </tr>\n",
       "  </tbody>\n",
       "</table>\n",
       "</div>"
      ],
      "text/plain": [
       "   count\n",
       "0   1131"
      ]
     },
     "execution_count": 22,
     "metadata": {},
     "output_type": "execute_result"
    }
   ],
   "source": [
    "sql_query = \"\"\"\n",
    "SELECT COUNT(*) FROM addresses_still_not_joined_3081 WHERE join_mask = 1;\n",
    "\"\"\"\n",
    "pd.read_sql_query(sql_query,con)"
   ]
  },
  {
   "cell_type": "code",
   "execution_count": 5,
   "metadata": {},
   "outputs": [
    {
     "data": {
      "text/plain": [
       "<sqlalchemy.engine.result.ResultProxy at 0x1203e2c18>"
      ]
     },
     "execution_count": 5,
     "metadata": {},
     "output_type": "execute_result"
    }
   ],
   "source": [
    "## START HERE, drop tables I am replacing first\n",
    "## Drop smarty_streets_rdi_check?\n",
    "sql_query = \"\"\"\n",
    "CREATE TABLE final_addresses_not_joined AS \n",
    "SELECT a.*, b.residential, b.vacant, b.active FROM addresses_still_not_joined_3081 a LEFT JOIN smarty_streets_rdi_check_new b ON a.oa_street_address = b.oa_street_address;\n",
    "\"\"\"\n",
    "engine.execute(sql_query)"
   ]
  },
  {
   "cell_type": "code",
   "execution_count": 8,
   "metadata": {},
   "outputs": [
    {
     "data": {
      "text/plain": [
       "<sqlalchemy.engine.result.ResultProxy at 0x1204b9710>"
      ]
     },
     "execution_count": 8,
     "metadata": {},
     "output_type": "execute_result"
    }
   ],
   "source": [
    "sql_query = \"\"\"\n",
    "DELETE FROM final_addresses_not_joined\n",
    "WHERE residential != 'Residential' OR join_mask = 1 OR active = 'N' OR vacant = 'Y';\n",
    "\"\"\"\n",
    "engine.execute(sql_query)"
   ]
  },
  {
   "cell_type": "code",
   "execution_count": 9,
   "metadata": {},
   "outputs": [
    {
     "data": {
      "text/html": [
       "<div>\n",
       "<style scoped>\n",
       "    .dataframe tbody tr th:only-of-type {\n",
       "        vertical-align: middle;\n",
       "    }\n",
       "\n",
       "    .dataframe tbody tr th {\n",
       "        vertical-align: top;\n",
       "    }\n",
       "\n",
       "    .dataframe thead th {\n",
       "        text-align: right;\n",
       "    }\n",
       "</style>\n",
       "<table border=\"1\" class=\"dataframe\">\n",
       "  <thead>\n",
       "    <tr style=\"text-align: right;\">\n",
       "      <th></th>\n",
       "      <th>count</th>\n",
       "    </tr>\n",
       "  </thead>\n",
       "  <tbody>\n",
       "    <tr>\n",
       "      <th>0</th>\n",
       "      <td>186462</td>\n",
       "    </tr>\n",
       "  </tbody>\n",
       "</table>\n",
       "</div>"
      ],
      "text/plain": [
       "    count\n",
       "0  186462"
      ]
     },
     "execution_count": 9,
     "metadata": {},
     "output_type": "execute_result"
    }
   ],
   "source": [
    "sql_query = \"\"\"\n",
    "SELECT COUNT(*) FROM final_addresses_not_joined;\n",
    "\"\"\"\n",
    "pd.read_sql_query(sql_query,con)"
   ]
  },
  {
   "cell_type": "code",
   "execution_count": 10,
   "metadata": {},
   "outputs": [
    {
     "data": {
      "text/plain": [
       "<sqlalchemy.engine.result.ResultProxy at 0x1204d9320>"
      ]
     },
     "execution_count": 10,
     "metadata": {},
     "output_type": "execute_result"
    }
   ],
   "source": [
    "sql_query = \"\"\"\n",
    "CREATE INDEX final_addresses_not_joined_gix ON final_addresses_not_joined USING GIST (geom);\n",
    "\"\"\"\n",
    "engine.execute(sql_query)"
   ]
  },
  {
   "cell_type": "code",
   "execution_count": null,
   "metadata": {},
   "outputs": [],
   "source": [
    "# project vtds_tx to 3081"
   ]
  },
  {
   "cell_type": "code",
   "execution_count": 27,
   "metadata": {},
   "outputs": [
    {
     "data": {
      "text/plain": [
       "<sqlalchemy.engine.result.ResultProxy at 0x11e3c8048>"
      ]
     },
     "execution_count": 27,
     "metadata": {},
     "output_type": "execute_result"
    }
   ],
   "source": [
    "sql_query = \"\"\"\n",
    "CREATE TABLE vtds_tx_3081 AS\n",
    "    SELECT * FROM vtds_tx;\n",
    "\"\"\"\n",
    "engine.execute(sql_query)"
   ]
  },
  {
   "cell_type": "code",
   "execution_count": 29,
   "metadata": {},
   "outputs": [
    {
     "data": {
      "text/plain": [
       "<sqlalchemy.engine.result.ResultProxy at 0x11e573358>"
      ]
     },
     "execution_count": 29,
     "metadata": {},
     "output_type": "execute_result"
    }
   ],
   "source": [
    "sql_query = \"\"\"\n",
    "ALTER TABLE vtds_tx_3081 \n",
    "   ALTER COLUMN geom \n",
    "   TYPE Geometry(Polygon, 3081) \n",
    "   USING ST_Transform(geom, 3081);\n",
    "\"\"\"\n",
    "engine.execute(sql_query)"
   ]
  },
  {
   "cell_type": "code",
   "execution_count": 30,
   "metadata": {},
   "outputs": [
    {
     "data": {
      "text/plain": [
       "<sqlalchemy.engine.result.ResultProxy at 0x11e573588>"
      ]
     },
     "execution_count": 30,
     "metadata": {},
     "output_type": "execute_result"
    }
   ],
   "source": [
    "sql_query = \"\"\"\n",
    "CREATE INDEX vtds_tx_3081_gix ON vtds_tx_3081 USING GIST (geom);\n",
    "\"\"\"\n",
    "engine.execute(sql_query)"
   ]
  },
  {
   "cell_type": "code",
   "execution_count": 12,
   "metadata": {},
   "outputs": [
    {
     "data": {
      "text/plain": [
       "<sqlalchemy.engine.result.ResultProxy at 0x120680860>"
      ]
     },
     "execution_count": 12,
     "metadata": {},
     "output_type": "execute_result"
    }
   ],
   "source": [
    "# spatial join the cntyvtd field to final_addresses_not_joined\n",
    "sql_query = \"\"\"\n",
    "CREATE TABLE final_addresses_not_joined_vtd AS\n",
    "SELECT p1.*,p2.cntyvtd FROM final_addresses_not_joined p1, vtds_tx_3081 p2 WHERE ST_WITHIN(p1.geom, p2.geom)\n",
    "\"\"\"\n",
    "engine.execute(sql_query)"
   ]
  },
  {
   "cell_type": "code",
   "execution_count": 13,
   "metadata": {},
   "outputs": [
    {
     "data": {
      "text/html": [
       "<div>\n",
       "<style scoped>\n",
       "    .dataframe tbody tr th:only-of-type {\n",
       "        vertical-align: middle;\n",
       "    }\n",
       "\n",
       "    .dataframe tbody tr th {\n",
       "        vertical-align: top;\n",
       "    }\n",
       "\n",
       "    .dataframe thead th {\n",
       "        text-align: right;\n",
       "    }\n",
       "</style>\n",
       "<table border=\"1\" class=\"dataframe\">\n",
       "  <thead>\n",
       "    <tr style=\"text-align: right;\">\n",
       "      <th></th>\n",
       "      <th>geom</th>\n",
       "      <th>oa_lon</th>\n",
       "      <th>oa_lat</th>\n",
       "      <th>oa_number</th>\n",
       "      <th>oa_postcode</th>\n",
       "      <th>oa_street_address</th>\n",
       "      <th>oa_street</th>\n",
       "      <th>join_mask</th>\n",
       "      <th>residential</th>\n",
       "      <th>vacant</th>\n",
       "      <th>active</th>\n",
       "      <th>cntyvtd</th>\n",
       "    </tr>\n",
       "  </thead>\n",
       "  <tbody>\n",
       "    <tr>\n",
       "      <th>0</th>\n",
       "      <td>0101000020090C000054D3106E3A933141382E972997FD...</td>\n",
       "      <td>-98.412000</td>\n",
       "      <td>30.704547</td>\n",
       "      <td>104</td>\n",
       "      <td>78611</td>\n",
       "      <td>104 CR 119A 78611</td>\n",
       "      <td>CR 119A</td>\n",
       "      <td>0</td>\n",
       "      <td>Residential</td>\n",
       "      <td>N</td>\n",
       "      <td>Y</td>\n",
       "      <td>530008</td>\n",
       "    </tr>\n",
       "    <tr>\n",
       "      <th>1</th>\n",
       "      <td>0101000020090C0000331422971D973141580AAE3DEC07...</td>\n",
       "      <td>-98.401391</td>\n",
       "      <td>30.716370</td>\n",
       "      <td>1700</td>\n",
       "      <td>78611</td>\n",
       "      <td>1700 CR 118 78611</td>\n",
       "      <td>CR 118</td>\n",
       "      <td>0</td>\n",
       "      <td>Residential</td>\n",
       "      <td>N</td>\n",
       "      <td>Y</td>\n",
       "      <td>530008</td>\n",
       "    </tr>\n",
       "    <tr>\n",
       "      <th>2</th>\n",
       "      <td>0101000020090C00003573906C069631418C18F51CE3F1...</td>\n",
       "      <td>-98.404737</td>\n",
       "      <td>30.690915</td>\n",
       "      <td>1814</td>\n",
       "      <td>78611</td>\n",
       "      <td>1814 CR 134 78611</td>\n",
       "      <td>CR 134</td>\n",
       "      <td>0</td>\n",
       "      <td>Residential</td>\n",
       "      <td>N</td>\n",
       "      <td>Y</td>\n",
       "      <td>530008</td>\n",
       "    </tr>\n",
       "    <tr>\n",
       "      <th>3</th>\n",
       "      <td>0101000020090C00006052BC4FA997314187836DFEA708...</td>\n",
       "      <td>-98.399915</td>\n",
       "      <td>30.717201</td>\n",
       "      <td>113</td>\n",
       "      <td>78611</td>\n",
       "      <td>113 REGINAS TRL 78611</td>\n",
       "      <td>REGINAS TRL</td>\n",
       "      <td>0</td>\n",
       "      <td>Residential</td>\n",
       "      <td>N</td>\n",
       "      <td>Y</td>\n",
       "      <td>530008</td>\n",
       "    </tr>\n",
       "    <tr>\n",
       "      <th>4</th>\n",
       "      <td>0101000020090C00007B6775BD7096314167A0E27ED805...</td>\n",
       "      <td>-98.403239</td>\n",
       "      <td>30.713990</td>\n",
       "      <td>1013</td>\n",
       "      <td>78611</td>\n",
       "      <td>1013 APACHE DR 78611</td>\n",
       "      <td>APACHE DR</td>\n",
       "      <td>0</td>\n",
       "      <td>Residential</td>\n",
       "      <td>N</td>\n",
       "      <td>Y</td>\n",
       "      <td>530008</td>\n",
       "    </tr>\n",
       "  </tbody>\n",
       "</table>\n",
       "</div>"
      ],
      "text/plain": [
       "                                                geom     oa_lon     oa_lat  \\\n",
       "0  0101000020090C000054D3106E3A933141382E972997FD... -98.412000  30.704547   \n",
       "1  0101000020090C0000331422971D973141580AAE3DEC07... -98.401391  30.716370   \n",
       "2  0101000020090C00003573906C069631418C18F51CE3F1... -98.404737  30.690915   \n",
       "3  0101000020090C00006052BC4FA997314187836DFEA708... -98.399915  30.717201   \n",
       "4  0101000020090C00007B6775BD7096314167A0E27ED805... -98.403239  30.713990   \n",
       "\n",
       "  oa_number oa_postcode      oa_street_address    oa_street  join_mask  \\\n",
       "0       104       78611      104 CR 119A 78611      CR 119A          0   \n",
       "1      1700       78611      1700 CR 118 78611       CR 118          0   \n",
       "2      1814       78611      1814 CR 134 78611       CR 134          0   \n",
       "3       113       78611  113 REGINAS TRL 78611  REGINAS TRL          0   \n",
       "4      1013       78611   1013 APACHE DR 78611    APACHE DR          0   \n",
       "\n",
       "   residential vacant active cntyvtd  \n",
       "0  Residential      N      Y  530008  \n",
       "1  Residential      N      Y  530008  \n",
       "2  Residential      N      Y  530008  \n",
       "3  Residential      N      Y  530008  \n",
       "4  Residential      N      Y  530008  "
      ]
     },
     "execution_count": 13,
     "metadata": {},
     "output_type": "execute_result"
    }
   ],
   "source": [
    "sql_query = \"\"\"\n",
    "SELECT * FROM final_addresses_not_joined_vtd LIMIT 5;\n",
    "\"\"\"\n",
    "pd.read_sql_query(sql_query,con)"
   ]
  },
  {
   "cell_type": "code",
   "execution_count": null,
   "metadata": {},
   "outputs": [],
   "source": []
  }
 ],
 "metadata": {
  "kernelspec": {
   "display_name": "Python 3",
   "language": "python",
   "name": "python3"
  },
  "language_info": {
   "codemirror_mode": {
    "name": "ipython",
    "version": 3
   },
   "file_extension": ".py",
   "mimetype": "text/x-python",
   "name": "python",
   "nbconvert_exporter": "python",
   "pygments_lexer": "ipython3",
   "version": "3.6.5"
  }
 },
 "nbformat": 4,
 "nbformat_minor": 2
}
