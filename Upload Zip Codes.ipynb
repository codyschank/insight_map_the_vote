{
 "cells": [
  {
   "cell_type": "code",
   "execution_count": 1,
   "metadata": {},
   "outputs": [],
   "source": [
    "import psycopg2\n",
    "import pandas as pd\n",
    "import geopandas as gpd\n",
    "import matplotlib.pyplot as plt\n",
    "\n",
    "from sqlalchemy import create_engine\n",
    "from sqlalchemy_utils import database_exists, create_database\n",
    "from geoalchemy2 import Geometry, WKTElement"
   ]
  },
  {
   "cell_type": "code",
   "execution_count": 2,
   "metadata": {},
   "outputs": [],
   "source": [
    "zip_shapefile = gpd.read_file(\"/Users/codyschank/Dropbox/Insight/Zip_Codes/tl_2017_us_zcta510.shp\", encoding = 'utf-8')\n",
    "#project to geographic coordinates to match openaddresses\n",
    "zip_shapefile = zip_shapefile.to_crs({'init': 'epsg:4326'})\n",
    "zip_shapefile.columns = map(str.lower, zip_shapefile.columns)"
   ]
  },
  {
   "cell_type": "code",
   "execution_count": 2,
   "metadata": {},
   "outputs": [
    {
     "name": "stdout",
     "output_type": "stream",
     "text": [
      "postgres://codyschank@localhost/map_the_vote\n",
      "True\n"
     ]
    }
   ],
   "source": [
    "# Define a database name (we're using a dataset on births, so we'll call it birth_db)\n",
    "# Set your postgres username\n",
    "dbname = 'map_the_vote'\n",
    "username = 'codyschank' # change this to your username\n",
    "\n",
    "engine = create_engine('postgres://%s@localhost/%s'%(username,dbname))\n",
    "print(engine.url)\n",
    "\n",
    "## create a database (if it doesn't exist)\n",
    "if not database_exists(engine.url):\n",
    "    create_database(engine.url)\n",
    "print(database_exists(engine.url))"
   ]
  },
  {
   "cell_type": "code",
   "execution_count": 4,
   "metadata": {},
   "outputs": [],
   "source": [
    "# I don't know why this is necessary, but it is \n",
    "zip_shapefile['geom'] = zip_shapefile['geometry'].apply(lambda x: WKTElement(x.wkt, srid=4326))\n",
    "zip_shapefile.drop('geometry', 1, inplace=True)"
   ]
  },
  {
   "cell_type": "code",
   "execution_count": 13,
   "metadata": {},
   "outputs": [],
   "source": [
    "table_name = \"zip5_us\"\n",
    "#had to run this from command ALTER TABLE zip5_us ALTER COLUMN geom SET DATA TYPE geometry;\n",
    "zip_shapefile.head(0).to_sql(table_name, engine, if_exists='replace', index=False, \n",
    "                                dtype={'geom': Geometry('Polygon', srid= 4326)})"
   ]
  },
  {
   "cell_type": "code",
   "execution_count": 14,
   "metadata": {},
   "outputs": [
    {
     "data": {
      "text/plain": [
       "<sqlalchemy.engine.result.ResultProxy at 0x119042a90>"
      ]
     },
     "execution_count": 14,
     "metadata": {},
     "output_type": "execute_result"
    }
   ],
   "source": [
    "sql_query = \"\"\"\n",
    "ALTER TABLE zip5_us ALTER COLUMN geom SET DATA TYPE geometry;\n",
    "\"\"\"\n",
    "engine.execute(sql_query)"
   ]
  },
  {
   "cell_type": "code",
   "execution_count": 15,
   "metadata": {},
   "outputs": [],
   "source": [
    "table_name = \"zip5_us\"\n",
    "#had to run this from command ALTER TABLE zip5_us ALTER COLUMN geom SET DATA TYPE geometry;\n",
    "zip_shapefile.head(1000).to_sql(table_name, engine, if_exists='append', index=False, \n",
    "                                dtype={'geom': Geometry('Polygon', srid= 4326)})"
   ]
  },
  {
   "cell_type": "code",
   "execution_count": 16,
   "metadata": {},
   "outputs": [],
   "source": [
    "chunk_size = 1000\n",
    "for i in range(1000, zip_shapefile.shape[0]+chunk_size, chunk_size):\n",
    "    zip_shapefile[i:(i+chunk_size)].to_sql(table_name, engine, if_exists='append', index=False, \n",
    "                                            dtype={'geom': Geometry('Polygon', srid= 4326)})"
   ]
  }
 ],
 "metadata": {
  "kernelspec": {
   "display_name": "Python 3",
   "language": "python",
   "name": "python3"
  },
  "language_info": {
   "codemirror_mode": {
    "name": "ipython",
    "version": 3
   },
   "file_extension": ".py",
   "mimetype": "text/x-python",
   "name": "python",
   "nbconvert_exporter": "python",
   "pygments_lexer": "ipython3",
   "version": "3.6.5"
  }
 },
 "nbformat": 4,
 "nbformat_minor": 2
}
