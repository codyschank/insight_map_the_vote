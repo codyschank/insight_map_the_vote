{
 "cells": [
  {
   "cell_type": "code",
   "execution_count": 1,
   "metadata": {},
   "outputs": [],
   "source": [
    "import os\n",
    "import glob\n",
    "import psycopg2\n",
    "import pandas as pd\n",
    "import geopandas as gpd\n",
    "import matplotlib.pyplot as plt\n",
    "\n",
    "from sqlalchemy import create_engine\n",
    "from sqlalchemy_utils import database_exists, create_database\n",
    "from geoalchemy2 import Geometry, WKTElement\n",
    "from shapely.geometry import Point"
   ]
  },
  {
   "cell_type": "code",
   "execution_count": 2,
   "metadata": {},
   "outputs": [
    {
     "name": "stdout",
     "output_type": "stream",
     "text": [
      "postgres://codyschank@localhost/map_the_vote\n",
      "True\n"
     ]
    }
   ],
   "source": [
    "# Define a database name (we're using a dataset on births, so we'll call it birth_db)\n",
    "# Set your postgres username\n",
    "dbname = 'map_the_vote'\n",
    "username = 'codyschank' # change this to your username\n",
    "\n",
    "engine = create_engine('postgres://%s@localhost/%s'%(username,dbname))\n",
    "print(engine.url)\n",
    "\n",
    "## create a database (if it doesn't exist)\n",
    "if not database_exists(engine.url):\n",
    "    create_database(engine.url)\n",
    "print(database_exists(engine.url))"
   ]
  },
  {
   "cell_type": "code",
   "execution_count": 3,
   "metadata": {},
   "outputs": [],
   "source": [
    "# Connect to make queries using psycopg2\n",
    "con = None\n",
    "con = psycopg2.connect(database = dbname, user = username)"
   ]
  },
  {
   "cell_type": "code",
   "execution_count": 4,
   "metadata": {},
   "outputs": [],
   "source": [
    "path = '/Users/codyschank/Downloads/openaddr-collected-us_south/us/tx/'\n",
    "extension = 'csv'\n",
    "os.chdir(path)\n",
    "files = [i for i in glob.glob('*.{}'.format(extension))]\n",
    "files = [path + s for s in files]\n",
    "files = sorted(files)"
   ]
  },
  {
   "cell_type": "code",
   "execution_count": 5,
   "metadata": {},
   "outputs": [],
   "source": [
    "# FIRST do the first file\n",
    "address_data = pd.read_csv(files[0], dtype={\"LON\": float, \"LAT\": float, \"NUMBER\": str, \"STREET\": str, \"UNIT\": str, \n",
    "                            \"CITY\": str, \"DISTRICT\": str, \"REGION\": str, \"POSTCODE\": str, \"ID\": str,\n",
    "                            \"HASH\": str}, keep_default_na=False)\n",
    "# combine text LON and LAT fields into a geometry \n",
    "geometry = [Point(xy) for xy in zip(address_data.LON, address_data.LAT)]\n",
    "\n",
    "# add oa prefix to all columns\n",
    "address_data.columns = ['oa_' + str(col) for col in address_data.columns]\n",
    "address_data_gd = gpd.GeoDataFrame(address_data, crs=4326, geometry=geometry)\n",
    "\n",
    "# convert column names to lower case will help later with database queries\n",
    "address_data_gd.columns = map(str.lower, address_data_gd.columns)\n",
    "\n",
    "address_data_gd[\"oa_street_address\"] = address_data_gd[\"oa_number\"].map(str) + ' ' +  address_data_gd[\"oa_street\"]\n",
    "\n",
    "# this is a bit slow, takes about 30-60s\n",
    "# I don't know why this is necessary, but it is \n",
    "address_data_gd['geom'] = address_data_gd['geometry'].apply(lambda x: WKTElement(x.wkt, srid=4326))\n",
    "address_data_gd.drop('geometry', 1, inplace=True)"
   ]
  },
  {
   "cell_type": "code",
   "execution_count": 6,
   "metadata": {},
   "outputs": [],
   "source": [
    "table_name = \"addresses_table_tx\"\n",
    "#write first 1000 rows to database\n",
    "address_data_gd.head(1000).to_sql(table_name, engine, if_exists='replace', index=False, \n",
    "                                dtype={'geom': Geometry('POINT', srid= 4326)})"
   ]
  },
  {
   "cell_type": "code",
   "execution_count": 7,
   "metadata": {},
   "outputs": [],
   "source": [
    "chunk_size = 1000\n",
    "for i in range(1000, address_data_gd.shape[0]+chunk_size, chunk_size):\n",
    "    address_data_gd[i:(i+chunk_size)].to_sql(table_name, engine, if_exists='append', index=False, \n",
    "                                dtype={'geom': Geometry('POINT', srid= 4326)})"
   ]
  },
  {
   "cell_type": "code",
   "execution_count": 8,
   "metadata": {},
   "outputs": [
    {
     "name": "stdout",
     "output_type": "stream",
     "text": [
      "/Users/codyschank/Downloads/openaddr-collected-us_south/us/tx/austin.csv\n",
      "/Users/codyschank/Downloads/openaddr-collected-us_south/us/tx/bandera.csv\n",
      "/Users/codyschank/Downloads/openaddr-collected-us_south/us/tx/bastrop.csv\n",
      "/Users/codyschank/Downloads/openaddr-collected-us_south/us/tx/bexar.csv\n",
      "/Users/codyschank/Downloads/openaddr-collected-us_south/us/tx/brazoria.csv\n",
      "/Users/codyschank/Downloads/openaddr-collected-us_south/us/tx/brazos.csv\n",
      "/Users/codyschank/Downloads/openaddr-collected-us_south/us/tx/burleson.csv\n",
      "/Users/codyschank/Downloads/openaddr-collected-us_south/us/tx/camp.csv\n",
      "/Users/codyschank/Downloads/openaddr-collected-us_south/us/tx/capcog.csv\n",
      "/Users/codyschank/Downloads/openaddr-collected-us_south/us/tx/carson.csv\n",
      "/Users/codyschank/Downloads/openaddr-collected-us_south/us/tx/city_of_abilene.csv\n",
      "/Users/codyschank/Downloads/openaddr-collected-us_south/us/tx/city_of_amarillo.csv\n",
      "/Users/codyschank/Downloads/openaddr-collected-us_south/us/tx/city_of_austin.csv\n",
      "/Users/codyschank/Downloads/openaddr-collected-us_south/us/tx/city_of_beaumont.csv\n",
      "/Users/codyschank/Downloads/openaddr-collected-us_south/us/tx/city_of_buda.csv\n",
      "/Users/codyschank/Downloads/openaddr-collected-us_south/us/tx/city_of_carrollton.csv\n",
      "/Users/codyschank/Downloads/openaddr-collected-us_south/us/tx/city_of_cedar_park.csv\n",
      "/Users/codyschank/Downloads/openaddr-collected-us_south/us/tx/city_of_colleyville.csv\n",
      "/Users/codyschank/Downloads/openaddr-collected-us_south/us/tx/city_of_dalhart.csv\n",
      "/Users/codyschank/Downloads/openaddr-collected-us_south/us/tx/city_of_denison.csv\n",
      "/Users/codyschank/Downloads/openaddr-collected-us_south/us/tx/city_of_denton.csv\n",
      "/Users/codyschank/Downloads/openaddr-collected-us_south/us/tx/city_of_flower_mound.csv\n",
      "/Users/codyschank/Downloads/openaddr-collected-us_south/us/tx/city_of_garland.csv\n",
      "/Users/codyschank/Downloads/openaddr-collected-us_south/us/tx/city_of_hurst.csv\n",
      "/Users/codyschank/Downloads/openaddr-collected-us_south/us/tx/city_of_killeen.csv\n",
      "/Users/codyschank/Downloads/openaddr-collected-us_south/us/tx/city_of_lewisville.csv\n",
      "/Users/codyschank/Downloads/openaddr-collected-us_south/us/tx/city_of_longview.csv\n",
      "/Users/codyschank/Downloads/openaddr-collected-us_south/us/tx/city_of_mansfield.csv\n",
      "/Users/codyschank/Downloads/openaddr-collected-us_south/us/tx/city_of_mckinney.csv\n",
      "/Users/codyschank/Downloads/openaddr-collected-us_south/us/tx/city_of_palestine.csv\n",
      "/Users/codyschank/Downloads/openaddr-collected-us_south/us/tx/city_of_pearland.csv\n",
      "/Users/codyschank/Downloads/openaddr-collected-us_south/us/tx/city_of_pflugerville.csv\n",
      "/Users/codyschank/Downloads/openaddr-collected-us_south/us/tx/city_of_sherman.csv\n",
      "/Users/codyschank/Downloads/openaddr-collected-us_south/us/tx/city_of_southlake.csv\n",
      "/Users/codyschank/Downloads/openaddr-collected-us_south/us/tx/city_of_sugar_land.csv\n",
      "/Users/codyschank/Downloads/openaddr-collected-us_south/us/tx/city_of_temple.csv\n",
      "/Users/codyschank/Downloads/openaddr-collected-us_south/us/tx/city_of_university_park.csv\n",
      "/Users/codyschank/Downloads/openaddr-collected-us_south/us/tx/city_of_waco.csv\n",
      "/Users/codyschank/Downloads/openaddr-collected-us_south/us/tx/colleyville.csv\n",
      "/Users/codyschank/Downloads/openaddr-collected-us_south/us/tx/colorado.csv\n",
      "/Users/codyschank/Downloads/openaddr-collected-us_south/us/tx/comal.csv\n",
      "/Users/codyschank/Downloads/openaddr-collected-us_south/us/tx/comanche.csv\n",
      "/Users/codyschank/Downloads/openaddr-collected-us_south/us/tx/coryell.csv\n",
      "/Users/codyschank/Downloads/openaddr-collected-us_south/us/tx/dallam.csv\n",
      "/Users/codyschank/Downloads/openaddr-collected-us_south/us/tx/dallas.csv\n",
      "/Users/codyschank/Downloads/openaddr-collected-us_south/us/tx/delta.csv\n",
      "/Users/codyschank/Downloads/openaddr-collected-us_south/us/tx/denton.csv\n",
      "/Users/codyschank/Downloads/openaddr-collected-us_south/us/tx/desoto.csv\n",
      "/Users/codyschank/Downloads/openaddr-collected-us_south/us/tx/dimmit.csv\n",
      "/Users/codyschank/Downloads/openaddr-collected-us_south/us/tx/duval.csv\n",
      "/Users/codyschank/Downloads/openaddr-collected-us_south/us/tx/ector.csv\n",
      "/Users/codyschank/Downloads/openaddr-collected-us_south/us/tx/el_paso.csv\n",
      "/Users/codyschank/Downloads/openaddr-collected-us_south/us/tx/ellis.csv\n",
      "/Users/codyschank/Downloads/openaddr-collected-us_south/us/tx/fannin.csv\n",
      "/Users/codyschank/Downloads/openaddr-collected-us_south/us/tx/fayette.csv\n",
      "/Users/codyschank/Downloads/openaddr-collected-us_south/us/tx/fisher.csv\n",
      "/Users/codyschank/Downloads/openaddr-collected-us_south/us/tx/freestone.csv\n",
      "/Users/codyschank/Downloads/openaddr-collected-us_south/us/tx/gaines.csv\n",
      "/Users/codyschank/Downloads/openaddr-collected-us_south/us/tx/galveston.csv\n",
      "/Users/codyschank/Downloads/openaddr-collected-us_south/us/tx/gillespie.csv\n",
      "/Users/codyschank/Downloads/openaddr-collected-us_south/us/tx/gray.csv\n",
      "/Users/codyschank/Downloads/openaddr-collected-us_south/us/tx/greater_houston.csv\n",
      "/Users/codyschank/Downloads/openaddr-collected-us_south/us/tx/grimes.csv\n",
      "/Users/codyschank/Downloads/openaddr-collected-us_south/us/tx/guadalupe.csv\n",
      "/Users/codyschank/Downloads/openaddr-collected-us_south/us/tx/hansford.csv\n",
      "/Users/codyschank/Downloads/openaddr-collected-us_south/us/tx/hartley.csv\n",
      "/Users/codyschank/Downloads/openaddr-collected-us_south/us/tx/hays.csv\n",
      "/Users/codyschank/Downloads/openaddr-collected-us_south/us/tx/hidalgo_county.csv\n",
      "/Users/codyschank/Downloads/openaddr-collected-us_south/us/tx/houston.csv\n",
      "/Users/codyschank/Downloads/openaddr-collected-us_south/us/tx/howard.csv\n",
      "/Users/codyschank/Downloads/openaddr-collected-us_south/us/tx/hunt.csv\n",
      "/Users/codyschank/Downloads/openaddr-collected-us_south/us/tx/hurst.csv\n",
      "/Users/codyschank/Downloads/openaddr-collected-us_south/us/tx/johnson.csv\n",
      "/Users/codyschank/Downloads/openaddr-collected-us_south/us/tx/kaufman.csv\n",
      "/Users/codyschank/Downloads/openaddr-collected-us_south/us/tx/kendall.csv\n",
      "/Users/codyschank/Downloads/openaddr-collected-us_south/us/tx/kerr.csv\n",
      "/Users/codyschank/Downloads/openaddr-collected-us_south/us/tx/lamar.csv\n",
      "/Users/codyschank/Downloads/openaddr-collected-us_south/us/tx/lasalle.csv\n",
      "/Users/codyschank/Downloads/openaddr-collected-us_south/us/tx/lee.csv\n",
      "/Users/codyschank/Downloads/openaddr-collected-us_south/us/tx/libery.csv\n",
      "/Users/codyschank/Downloads/openaddr-collected-us_south/us/tx/liveoak.csv\n",
      "/Users/codyschank/Downloads/openaddr-collected-us_south/us/tx/llano.csv\n",
      "/Users/codyschank/Downloads/openaddr-collected-us_south/us/tx/lubbock.csv\n",
      "/Users/codyschank/Downloads/openaddr-collected-us_south/us/tx/madison.csv\n",
      "/Users/codyschank/Downloads/openaddr-collected-us_south/us/tx/maverick.csv\n",
      "/Users/codyschank/Downloads/openaddr-collected-us_south/us/tx/mcculloch.csv\n",
      "/Users/codyschank/Downloads/openaddr-collected-us_south/us/tx/mcmullen.csv\n",
      "/Users/codyschank/Downloads/openaddr-collected-us_south/us/tx/medina.csv\n",
      "/Users/codyschank/Downloads/openaddr-collected-us_south/us/tx/midland.csv\n",
      "/Users/codyschank/Downloads/openaddr-collected-us_south/us/tx/milam.csv\n",
      "/Users/codyschank/Downloads/openaddr-collected-us_south/us/tx/mills.csv\n",
      "/Users/codyschank/Downloads/openaddr-collected-us_south/us/tx/montgomery.csv\n",
      "/Users/codyschank/Downloads/openaddr-collected-us_south/us/tx/moore.csv\n",
      "/Users/codyschank/Downloads/openaddr-collected-us_south/us/tx/nacogdoches.csv\n",
      "/Users/codyschank/Downloads/openaddr-collected-us_south/us/tx/new_braunfels.csv\n",
      "/Users/codyschank/Downloads/openaddr-collected-us_south/us/tx/nolan.csv\n",
      "/Users/codyschank/Downloads/openaddr-collected-us_south/us/tx/north_richland_hills.csv\n",
      "/Users/codyschank/Downloads/openaddr-collected-us_south/us/tx/ochiltree.csv\n",
      "/Users/codyschank/Downloads/openaddr-collected-us_south/us/tx/orange.csv\n",
      "/Users/codyschank/Downloads/openaddr-collected-us_south/us/tx/parmer.csv\n",
      "/Users/codyschank/Downloads/openaddr-collected-us_south/us/tx/plano.csv\n",
      "/Users/codyschank/Downloads/openaddr-collected-us_south/us/tx/rains.csv\n",
      "/Users/codyschank/Downloads/openaddr-collected-us_south/us/tx/reeves.csv\n",
      "/Users/codyschank/Downloads/openaddr-collected-us_south/us/tx/rockwall.csv\n",
      "/Users/codyschank/Downloads/openaddr-collected-us_south/us/tx/round_rock.csv\n",
      "/Users/codyschank/Downloads/openaddr-collected-us_south/us/tx/runnels.csv\n",
      "/Users/codyschank/Downloads/openaddr-collected-us_south/us/tx/san_antonio.csv\n",
      "/Users/codyschank/Downloads/openaddr-collected-us_south/us/tx/schleicher.csv\n"
     ]
    },
    {
     "name": "stdout",
     "output_type": "stream",
     "text": [
      "/Users/codyschank/Downloads/openaddr-collected-us_south/us/tx/shackelford.csv\n",
      "/Users/codyschank/Downloads/openaddr-collected-us_south/us/tx/statewide-partial.csv\n",
      "/Users/codyschank/Downloads/openaddr-collected-us_south/us/tx/tarrant-county.csv\n",
      "/Users/codyschank/Downloads/openaddr-collected-us_south/us/tx/texoma-counties.csv\n",
      "/Users/codyschank/Downloads/openaddr-collected-us_south/us/tx/titus.csv\n",
      "/Users/codyschank/Downloads/openaddr-collected-us_south/us/tx/trinity.csv\n",
      "/Users/codyschank/Downloads/openaddr-collected-us_south/us/tx/uvalde.csv\n",
      "/Users/codyschank/Downloads/openaddr-collected-us_south/us/tx/vanzandt.csv\n",
      "/Users/codyschank/Downloads/openaddr-collected-us_south/us/tx/waco.csv\n",
      "/Users/codyschank/Downloads/openaddr-collected-us_south/us/tx/walker.csv\n",
      "/Users/codyschank/Downloads/openaddr-collected-us_south/us/tx/washington.csv\n",
      "/Users/codyschank/Downloads/openaddr-collected-us_south/us/tx/wharton.csv\n",
      "/Users/codyschank/Downloads/openaddr-collected-us_south/us/tx/williamson.csv\n",
      "/Users/codyschank/Downloads/openaddr-collected-us_south/us/tx/wilson.csv\n",
      "/Users/codyschank/Downloads/openaddr-collected-us_south/us/tx/wood.csv\n",
      "/Users/codyschank/Downloads/openaddr-collected-us_south/us/tx/young.csv\n",
      "/Users/codyschank/Downloads/openaddr-collected-us_south/us/tx/zavala.csv\n"
     ]
    }
   ],
   "source": [
    "# NOW do the rest of the files\n",
    "for file in files[1:]: # skip the first one since I read it in already\n",
    "    print(file)\n",
    "    address_data = pd.read_csv(file, dtype={\"LON\": float, \"LAT\": float, \"NUMBER\": str, \"STREET\": str, \"UNIT\": str, \n",
    "                                \"CITY\": str, \"DISTRICT\": str, \"REGION\": str, \"POSTCODE\": str, \"ID\": str,\n",
    "                                \"HASH\": str}, keep_default_na=False)\n",
    "\n",
    "    # combine text LON and LAT fields into a geometry \n",
    "    geometry = [Point(xy) for xy in zip(address_data.LON, address_data.LAT)]\n",
    "    \n",
    "    # add oa prefix to all columns\n",
    "    address_data.columns = ['oa_' + str(col) for col in address_data.columns]\n",
    "    address_data_gd = gpd.GeoDataFrame(address_data, crs=4326, geometry=geometry)\n",
    "\n",
    "    # convert column names to lower case will help later with database queries\n",
    "    address_data_gd.columns = map(str.lower, address_data_gd.columns)\n",
    "    \n",
    "    address_data_gd[\"oa_street_address\"] = address_data_gd[\"oa_number\"].map(str) + ' ' +  address_data_gd[\"oa_street\"]\n",
    "    \n",
    "    # this is a bit slow, takes about 30-60s\n",
    "    # I don't know why this is necessary, but it is \n",
    "    address_data_gd['geom'] = address_data_gd['geometry'].apply(lambda x: WKTElement(x.wkt, srid=4326))\n",
    "    address_data_gd.drop('geometry', 1, inplace=True)\n",
    "    for i in range(0, address_data_gd.shape[0]+chunk_size, chunk_size):\n",
    "        address_data_gd[i:(i+chunk_size)].to_sql(table_name, engine, if_exists='append', index=False, \n",
    "                                                    dtype={'geom': Geometry('POINT', srid= 4326)})\n",
    "    "
   ]
  },
  {
   "cell_type": "code",
   "execution_count": null,
   "metadata": {},
   "outputs": [],
   "source": [
    "# do I need 'as dst', or is it just 'dst'\n",
    "sql_query = \"\"\"\n",
    "UPDATE addresses_table_tx dst\n",
    "SET oa_postcode = src.zcta5ce10\n",
    "FROM zip5_us src\n",
    "WHERE ST_Intersects(src.geom, dst.geom);\n",
    "\"\"\"\n",
    "\n",
    "engine.execute(sql_query)"
   ]
  },
  {
   "cell_type": "code",
   "execution_count": null,
   "metadata": {},
   "outputs": [],
   "source": [
    "# Update street_address column in addresses_table_tx\n",
    "sql_query = \"\"\"\n",
    "UPDATE addresses_table_tx\n",
    "SET oa_street_address = oa_street_address || ' ' || oa_postcode;\n",
    "\"\"\"\n",
    "engine.execute(sql_query)"
   ]
  },
  {
   "cell_type": "code",
   "execution_count": 9,
   "metadata": {},
   "outputs": [
    {
     "data": {
      "text/plain": [
       "<sqlalchemy.engine.result.ResultProxy at 0x11f0e7908>"
      ]
     },
     "execution_count": 9,
     "metadata": {},
     "output_type": "execute_result"
    }
   ],
   "source": [
    "# Delete rows where street number is empty\n",
    "sql_query = \"\"\"\n",
    "DELETE FROM addresses_table_tx\n",
    "WHERE oa_number = '';\n",
    "\"\"\"\n",
    "engine.execute(sql_query)"
   ]
  },
  {
   "cell_type": "code",
   "execution_count": 10,
   "metadata": {},
   "outputs": [
    {
     "data": {
      "text/plain": [
       "<sqlalchemy.engine.result.ResultProxy at 0x11f0e74a8>"
      ]
     },
     "execution_count": 10,
     "metadata": {},
     "output_type": "execute_result"
    }
   ],
   "source": [
    "sql_query = \"\"\"\n",
    "DELETE FROM addresses_table_tx\n",
    "WHERE oa_number = '0';\n",
    "\"\"\"\n",
    "engine.execute(sql_query)"
   ]
  },
  {
   "cell_type": "code",
   "execution_count": 11,
   "metadata": {},
   "outputs": [
    {
     "data": {
      "text/plain": [
       "<sqlalchemy.engine.result.ResultProxy at 0x11f0e7160>"
      ]
     },
     "execution_count": 11,
     "metadata": {},
     "output_type": "execute_result"
    }
   ],
   "source": [
    "sql_query = \"\"\"\n",
    "DELETE FROM addresses_table_tx\n",
    "WHERE oa_street = '';\n",
    "\"\"\"\n",
    "engine.execute(sql_query)"
   ]
  },
  {
   "cell_type": "code",
   "execution_count": null,
   "metadata": {},
   "outputs": [],
   "source": [
    "# start here"
   ]
  },
  {
   "cell_type": "code",
   "execution_count": 4,
   "metadata": {},
   "outputs": [
    {
     "data": {
      "text/plain": [
       "<sqlalchemy.engine.result.ResultProxy at 0x11d27c550>"
      ]
     },
     "execution_count": 4,
     "metadata": {},
     "output_type": "execute_result"
    }
   ],
   "source": [
    "sql_query = \"\"\"\n",
    "UPDATE addresses_table_tx SET oa_street_address = replace(oa_street_address, 'COUNTY ROAD', 'CR');\n",
    "\"\"\"\n",
    "engine.execute(sql_query)"
   ]
  },
  {
   "cell_type": "code",
   "execution_count": 5,
   "metadata": {},
   "outputs": [
    {
     "data": {
      "text/plain": [
       "<sqlalchemy.engine.result.ResultProxy at 0x11d2688d0>"
      ]
     },
     "execution_count": 5,
     "metadata": {},
     "output_type": "execute_result"
    }
   ],
   "source": [
    "sql_query = \"\"\"\n",
    "UPDATE addresses_table_tx SET oa_street_address = replace(oa_street_address, 'STATE ROAD', 'SR');\n",
    "\"\"\"\n",
    "engine.execute(sql_query)"
   ]
  },
  {
   "cell_type": "code",
   "execution_count": 6,
   "metadata": {},
   "outputs": [
    {
     "data": {
      "text/plain": [
       "<sqlalchemy.engine.result.ResultProxy at 0x11d2687b8>"
      ]
     },
     "execution_count": 6,
     "metadata": {},
     "output_type": "execute_result"
    }
   ],
   "source": [
    "# COUNTY RD to CR in openaddress_street_address\n",
    "sql_query = \"\"\"\n",
    "UPDATE addresses_table_tx SET oa_street_address = replace(oa_street_address, 'RANCH ROAD', 'RR');\n",
    "\"\"\"\n",
    "engine.execute(sql_query)"
   ]
  },
  {
   "cell_type": "code",
   "execution_count": 7,
   "metadata": {},
   "outputs": [
    {
     "data": {
      "text/plain": [
       "<sqlalchemy.engine.result.ResultProxy at 0x11d27cf28>"
      ]
     },
     "execution_count": 7,
     "metadata": {},
     "output_type": "execute_result"
    }
   ],
   "source": [
    "sql_query = \"\"\"\n",
    "UPDATE addresses_table_tx SET oa_street_address = replace(oa_street_address, 'HIGHWAY', 'HWY');\n",
    "\"\"\"\n",
    "engine.execute(sql_query)"
   ]
  },
  {
   "cell_type": "code",
   "execution_count": 13,
   "metadata": {},
   "outputs": [
    {
     "data": {
      "text/plain": [
       "<sqlalchemy.engine.result.ResultProxy at 0x117259a20>"
      ]
     },
     "execution_count": 13,
     "metadata": {},
     "output_type": "execute_result"
    }
   ],
   "source": [
    "# replace mc _ with mc_ in openaddress_street_address\n",
    "sql_query = \"\"\"\n",
    "UPDATE addresses_table_tx SET oa_street_address = replace(oa_street_address, 'MC ', 'MC')\n",
    "\"\"\"\n",
    "engine.execute(sql_query)"
   ]
  },
  {
   "cell_type": "code",
   "execution_count": 4,
   "metadata": {},
   "outputs": [
    {
     "data": {
      "text/plain": [
       "<sqlalchemy.engine.result.ResultProxy at 0x11c1841d0>"
      ]
     },
     "execution_count": 4,
     "metadata": {},
     "output_type": "execute_result"
    }
   ],
   "source": [
    "# get rid of double spaces in openaddress_street_address, run twice\n",
    "sql_query = \"\"\"\n",
    "UPDATE addresses_table_tx SET oa_street_address = replace(oa_street_address, '  ', ' ');\n",
    "\"\"\"\n",
    "engine.execute(sql_query)"
   ]
  },
  {
   "cell_type": "code",
   "execution_count": null,
   "metadata": {},
   "outputs": [],
   "source": [
    "# run it again, just to be sure.\n",
    "sql_query = \"\"\"\n",
    "UPDATE addresses_table_tx SET oa_street_address = replace(oa_street_address, '  ', ' ');\n",
    "\"\"\"\n",
    "engine.execute(sql_query)"
   ]
  },
  {
   "cell_type": "code",
   "execution_count": 27,
   "metadata": {},
   "outputs": [
    {
     "data": {
      "text/plain": [
       "<sqlalchemy.engine.result.ResultProxy at 0x11c555f98>"
      ]
     },
     "execution_count": 27,
     "metadata": {},
     "output_type": "execute_result"
    }
   ],
   "source": [
    "# remove duplicates, just take first one\n",
    "sql_query = \"\"\"\n",
    "CREATE TABLE addresses_table_tx_no_dupes AS\n",
    "SELECT DISTINCT ON (oa_street_address) * FROM addresses_table_tx;\n",
    "\"\"\"\n",
    "engine.execute(sql_query)"
   ]
  },
  {
   "cell_type": "code",
   "execution_count": 9,
   "metadata": {},
   "outputs": [
    {
     "data": {
      "text/plain": [
       "<sqlalchemy.engine.result.ResultProxy at 0x117293668>"
      ]
     },
     "execution_count": 9,
     "metadata": {},
     "output_type": "execute_result"
    }
   ],
   "source": [
    "# Delete the shorter street name (i.e. no prefix)\n",
    "sql_query = \"\"\"\n",
    "DELETE FROM addresses_table_tx_no_dupes a USING addresses_table_tx_no_dupes b\n",
    "    WHERE LENGTH(a.oa_street) < LENGTH(b.oa_street) \n",
    "    AND a.oa_postcode = b.oa_postcode \n",
    "    AND a.oa_number = b.oa_number\n",
    "    AND (a.oa_street LIKE '%%' || b.oa_street OR b.oa_street LIKE '%%' || a.oa_street); \n",
    "\"\"\"\n",
    "engine.execute(sql_query)"
   ]
  },
  {
   "cell_type": "code",
   "execution_count": null,
   "metadata": {},
   "outputs": [],
   "source": []
  }
 ],
 "metadata": {
  "kernelspec": {
   "display_name": "Python 3",
   "language": "python",
   "name": "python3"
  },
  "language_info": {
   "codemirror_mode": {
    "name": "ipython",
    "version": 3
   },
   "file_extension": ".py",
   "mimetype": "text/x-python",
   "name": "python",
   "nbconvert_exporter": "python",
   "pygments_lexer": "ipython3",
   "version": "3.6.5"
  }
 },
 "nbformat": 4,
 "nbformat_minor": 2
}
