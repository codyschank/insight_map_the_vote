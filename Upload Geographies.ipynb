{
 "cells": [
  {
   "cell_type": "code",
   "execution_count": 1,
   "metadata": {},
   "outputs": [],
   "source": [
    "import psycopg2\n",
    "import pandas as pd\n",
    "import geopandas as gpd\n",
    "\n",
    "from sqlalchemy import create_engine\n",
    "from sqlalchemy_utils import database_exists, create_database\n",
    "from geoalchemy2 import Geometry, WKTElement"
   ]
  },
  {
   "cell_type": "code",
   "execution_count": 2,
   "metadata": {},
   "outputs": [
    {
     "name": "stdout",
     "output_type": "stream",
     "text": [
      "postgres://codyschank@localhost/map_the_vote2\n",
      "True\n"
     ]
    }
   ],
   "source": [
    "dbname = 'map_the_vote'\n",
    "username = 'codyschank'\n",
    "\n",
    "engine = create_engine('postgres://%s@localhost/%s'%(username,dbname))\n",
    "print(engine.url)\n",
    "\n",
    "if not database_exists(engine.url):\n",
    "    create_database(engine.url)\n",
    "print(database_exists(engine.url))"
   ]
  },
  {
   "cell_type": "code",
   "execution_count": null,
   "metadata": {},
   "outputs": [],
   "source": [
    "#if database is newly created, will have to run this the first time\n",
    "#sql_query = \"\"\"\n",
    "#CREATE EXTENSION postgis;\n",
    "#\"\"\"\n",
    "#engine.execute(sql_query)"
   ]
  },
  {
   "cell_type": "markdown",
   "metadata": {},
   "source": [
    "## Zip Codes (National File)"
   ]
  },
  {
   "cell_type": "code",
   "execution_count": 4,
   "metadata": {},
   "outputs": [],
   "source": [
    "zip_shapefile = gpd.read_file(\"/Users/codyschank/Dropbox/Insight/Geography/Zip_Codes/tl_2017_us_zcta510.shp\", encoding = 'utf-8')\n",
    "#project to geographic coordinates to match openaddresses\n",
    "zip_shapefile = zip_shapefile.to_crs({'init': 'epsg:4326'})\n",
    "zip_shapefile.columns = map(str.lower, zip_shapefile.columns)"
   ]
  },
  {
   "cell_type": "code",
   "execution_count": 5,
   "metadata": {},
   "outputs": [],
   "source": [
    "# I don't know why this is necessary, but it is \n",
    "zip_shapefile['geom'] = zip_shapefile['geometry'].apply(lambda x: WKTElement(x.wkt, srid=4326))\n",
    "zip_shapefile.drop('geometry', 1, inplace=True)"
   ]
  },
  {
   "cell_type": "code",
   "execution_count": 7,
   "metadata": {},
   "outputs": [
    {
     "data": {
      "text/plain": [
       "<sqlalchemy.engine.result.ResultProxy at 0x122ac8d68>"
      ]
     },
     "execution_count": 7,
     "metadata": {},
     "output_type": "execute_result"
    }
   ],
   "source": []
  },
  {
   "cell_type": "code",
   "execution_count": 8,
   "metadata": {},
   "outputs": [],
   "source": [
    "# issue with multipolygons requires upload the schema first, alter the geom column, then upload the data\n",
    "table_name = \"zip5_us\"\n",
    "zip_shapefile.head(0).to_sql(table_name, engine, if_exists='replace', index=False, \n",
    "                                dtype={'geom': Geometry('Polygon', srid= 4326)})"
   ]
  },
  {
   "cell_type": "code",
   "execution_count": 9,
   "metadata": {},
   "outputs": [
    {
     "data": {
      "text/plain": [
       "<sqlalchemy.engine.result.ResultProxy at 0x122afd128>"
      ]
     },
     "execution_count": 9,
     "metadata": {},
     "output_type": "execute_result"
    }
   ],
   "source": [
    "sql_query = \"\"\"\n",
    "ALTER TABLE zip5_us ALTER COLUMN geom SET DATA TYPE geometry;\n",
    "\"\"\"\n",
    "engine.execute(sql_query)"
   ]
  },
  {
   "cell_type": "code",
   "execution_count": 10,
   "metadata": {},
   "outputs": [],
   "source": [
    "table_name = \"zip5_us\"\n",
    "#had to run this from command ALTER TABLE zip5_us ALTER COLUMN geom SET DATA TYPE geometry;\n",
    "zip_shapefile.head(1000).to_sql(table_name, engine, if_exists='append', index=False, \n",
    "                                dtype={'geom': Geometry('Polygon', srid= 4326)})"
   ]
  },
  {
   "cell_type": "code",
   "execution_count": 11,
   "metadata": {},
   "outputs": [
    {
     "name": "stdout",
     "output_type": "stream",
     "text": [
      "1000\n",
      "2000\n",
      "3000\n",
      "4000\n",
      "5000\n",
      "6000\n",
      "7000\n",
      "8000\n",
      "9000\n",
      "10000\n",
      "11000\n",
      "12000\n",
      "13000\n",
      "14000\n",
      "15000\n",
      "16000\n",
      "17000\n",
      "18000\n",
      "19000\n",
      "20000\n",
      "21000\n",
      "22000\n",
      "23000\n",
      "24000\n",
      "25000\n",
      "26000\n",
      "27000\n",
      "28000\n",
      "29000\n",
      "30000\n",
      "31000\n",
      "32000\n",
      "33000\n",
      "34000\n"
     ]
    }
   ],
   "source": [
    "chunk_size = 1000\n",
    "for i in range(1000, zip_shapefile.shape[0]+chunk_size, chunk_size):\n",
    "    zip_shapefile[i:(i+chunk_size)].to_sql(table_name, engine, if_exists='append', index=False, \n",
    "                                            dtype={'geom': Geometry('Polygon', srid= 4326)})\n",
    "    print(i)"
   ]
  },
  {
   "cell_type": "markdown",
   "metadata": {},
   "source": [
    "## Congressional Districts (National File)"
   ]
  },
  {
   "cell_type": "code",
   "execution_count": 12,
   "metadata": {},
   "outputs": [],
   "source": [
    "tl_2017_us_cd115 = gpd.read_file(\"/Users/codyschank/Dropbox/Insight/Geography/Congressional_Districts/tl_2017_us_cd115.shp\", encoding = 'utf-8')\n",
    "#project to geographic coordinates to match openaddresses\n",
    "tl_2017_us_cd115 = tl_2017_us_cd115.to_crs({'init': 'epsg:4326'})\n",
    "tl_2017_us_cd115.columns = map(str.lower, tl_2017_us_cd115.columns)"
   ]
  },
  {
   "cell_type": "code",
   "execution_count": 13,
   "metadata": {},
   "outputs": [],
   "source": [
    "# I don't know why this is necessary, but it is \n",
    "tl_2017_us_cd115['geom'] = tl_2017_us_cd115['geometry'].apply(lambda x: WKTElement(x.wkt, srid=4326))\n",
    "tl_2017_us_cd115.drop('geometry', 1, inplace=True)"
   ]
  },
  {
   "cell_type": "code",
   "execution_count": 14,
   "metadata": {},
   "outputs": [],
   "source": [
    "# issue with multipolygons requires upload the schema first, alter the geom column, then upload the data\n",
    "table_name = \"us_congressional_districts\"\n",
    "tl_2017_us_cd115.head(0).to_sql(table_name, engine, if_exists='replace', index=False, \n",
    "                                dtype={'geom': Geometry('Polygon', srid= 4326)})"
   ]
  },
  {
   "cell_type": "code",
   "execution_count": 15,
   "metadata": {},
   "outputs": [
    {
     "data": {
      "text/plain": [
       "<sqlalchemy.engine.result.ResultProxy at 0x12291d1d0>"
      ]
     },
     "execution_count": 15,
     "metadata": {},
     "output_type": "execute_result"
    }
   ],
   "source": [
    "sql_query = \"\"\"\n",
    "ALTER TABLE us_congressional_districts ALTER COLUMN geom SET DATA TYPE geometry;\n",
    "\"\"\"\n",
    "engine.execute(sql_query)"
   ]
  },
  {
   "cell_type": "code",
   "execution_count": 16,
   "metadata": {},
   "outputs": [],
   "source": [
    "tl_2017_us_cd115.to_sql(table_name, engine, if_exists='append', index=False, \n",
    "                                dtype={'geom': Geometry('POLYGON', srid= 4326)})"
   ]
  },
  {
   "cell_type": "markdown",
   "metadata": {},
   "source": [
    "## VTDs (Texas)"
   ]
  },
  {
   "cell_type": "code",
   "execution_count": 17,
   "metadata": {},
   "outputs": [],
   "source": [
    "precinct_shapefile = gpd.read_file(\"/Users/codyschank/Dropbox/Insight/Geography/VTDs/VTDs.shp\", encoding = 'utf-8')\n",
    "#SRID is 3081, checked in QGIS\n",
    "#project to geographic coordinates to match openaddresses\n",
    "precinct_shapefile = precinct_shapefile.to_crs({'init': 'epsg:4326'})\n",
    "precinct_shapefile.columns = map(str.lower, precinct_shapefile.columns)"
   ]
  },
  {
   "cell_type": "code",
   "execution_count": 18,
   "metadata": {},
   "outputs": [],
   "source": [
    "# I don't know why this is necessary, but it is \n",
    "precinct_shapefile['geom'] = precinct_shapefile['geometry'].apply(lambda x: WKTElement(x.wkt, srid=4326))\n",
    "precinct_shapefile.drop('geometry', 1, inplace=True)"
   ]
  },
  {
   "cell_type": "code",
   "execution_count": 19,
   "metadata": {},
   "outputs": [],
   "source": [
    "table_name = \"vtds_tx\"\n",
    "precinct_shapefile.to_sql(table_name, engine, if_exists='replace', index=False, \n",
    "                                dtype={'geom': Geometry('POLYGON', srid= 4326)})"
   ]
  },
  {
   "cell_type": "code",
   "execution_count": null,
   "metadata": {},
   "outputs": [],
   "source": []
  }
 ],
 "metadata": {
  "kernelspec": {
   "display_name": "Python 3",
   "language": "python",
   "name": "python3"
  },
  "language_info": {
   "codemirror_mode": {
    "name": "ipython",
    "version": 3
   },
   "file_extension": ".py",
   "mimetype": "text/x-python",
   "name": "python",
   "nbconvert_exporter": "python",
   "pygments_lexer": "ipython3",
   "version": "3.6.5"
  }
 },
 "nbformat": 4,
 "nbformat_minor": 2
}
