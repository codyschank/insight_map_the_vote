{
 "cells": [
  {
   "cell_type": "code",
   "execution_count": 1,
   "metadata": {},
   "outputs": [],
   "source": [
    "import psycopg2\n",
    "import numpy\n",
    "import difflib\n",
    "\n",
    "import pandas as pd\n",
    "import geopandas as gpd\n",
    "\n",
    "from sqlalchemy import create_engine\n",
    "from sqlalchemy_utils import database_exists, create_database\n",
    "from geoalchemy2 import Geometry, WKTElement\n",
    "from shapely.geometry import Point\n",
    "\n",
    "from secrets import *"
   ]
  },
  {
   "cell_type": "code",
   "execution_count": 2,
   "metadata": {},
   "outputs": [],
   "source": [
    "pd.options.mode.chained_assignment = None "
   ]
  },
  {
   "cell_type": "code",
   "execution_count": null,
   "metadata": {},
   "outputs": [],
   "source": [
    "def get_rdi(street_address, zip_code):\n",
    "    auth_id = AUTH[\"smarty_auth_id\"]\n",
    "    auth_token = AUTH[\"smarty_auth_token\"]\n",
    "    credentials = StaticCredentials(auth_id, auth_token)\n",
    "    client = ClientBuilder(credentials).build_us_street_api_client()\n",
    "\n",
    "    lookup = Lookup()\n",
    "    lookup.street = street_address\n",
    "    lookup.zipcode = zip_code\n",
    "\n",
    "    try:\n",
    "        client.send_lookup(lookup)\n",
    "    except exceptions.SmartyException as err:\n",
    "        print(err)\n",
    "        return 'invalid'\n",
    "\n",
    "    result = lookup.result\n",
    "\n",
    "    if not result:\n",
    "        #print(\"No candidates. This means the address is not valid.\")\n",
    "        return('invalid')\n",
    "\n",
    "    return(result[0])"
   ]
  },
  {
   "cell_type": "code",
   "execution_count": 3,
   "metadata": {},
   "outputs": [
    {
     "name": "stdout",
     "output_type": "stream",
     "text": [
      "postgres://codyschank@localhost/map_the_vote\n",
      "True\n"
     ]
    }
   ],
   "source": [
    "dbname = 'map_the_vote'\n",
    "username = 'codyschank'\n",
    "\n",
    "engine = create_engine('postgres://%s@localhost/%s'%(username,dbname))\n",
    "print(engine.url)\n",
    "\n",
    "if not database_exists(engine.url):\n",
    "    create_database(engine.url)\n",
    "print(database_exists(engine.url))"
   ]
  },
  {
   "cell_type": "code",
   "execution_count": 4,
   "metadata": {},
   "outputs": [],
   "source": [
    "con = None\n",
    "con = psycopg2.connect(database = dbname, user = username)"
   ]
  },
  {
   "cell_type": "markdown",
   "metadata": {},
   "source": [
    "## Initial Joins"
   ]
  },
  {
   "cell_type": "code",
   "execution_count": 4,
   "metadata": {},
   "outputs": [
    {
     "data": {
      "text/plain": [
       "<sqlalchemy.engine.result.ResultProxy at 0x11ff15eb8>"
      ]
     },
     "execution_count": 4,
     "metadata": {},
     "output_type": "execute_result"
    }
   ],
   "source": [
    "# intersect open addresses with districts where I have voter files\n",
    "# check that both of the geom fields have indexes, if not create them to make this faster\n",
    "sql_query = \"\"\"\n",
    "CREATE TABLE select_all_addresses AS\n",
    "SELECT b.* FROM us_congressional_districts a, addresses_table_tx_no_dupes b \n",
    "    WHERE ST_Intersects(a.geom,b.geom) AND a.geoid IN ('4821','4825','4810');\n",
    "\"\"\"\n",
    "engine.execute(sql_query)"
   ]
  },
  {
   "cell_type": "code",
   "execution_count": 8,
   "metadata": {},
   "outputs": [
    {
     "data": {
      "text/plain": [
       "<sqlalchemy.engine.result.ResultProxy at 0x11ff30278>"
      ]
     },
     "execution_count": 8,
     "metadata": {},
     "output_type": "execute_result"
    }
   ],
   "source": [
    "sql_query = \"\"\"\n",
    "CREATE INDEX oa_street_address_idx ON select_all_addresses (oa_street_address);\n",
    "\"\"\"\n",
    "engine.execute(sql_query)"
   ]
  },
  {
   "cell_type": "code",
   "execution_count": 4,
   "metadata": {},
   "outputs": [
    {
     "data": {
      "text/plain": [
       "<sqlalchemy.engine.result.ResultProxy at 0x1282cfba8>"
      ]
     },
     "execution_count": 4,
     "metadata": {},
     "output_type": "execute_result"
    }
   ],
   "source": [
    "# Join open addresses to voter file\n",
    "# use upper for oa_address, vf_address already capitalized\n",
    "sql_query = \"\"\"\n",
    "CREATE TABLE voters_join AS\n",
    "SELECT a.geom, a.oa_lon, a.oa_lat, a.oa_number, a.oa_postcode, a.oa_street_address, a.oa_street, b.* FROM select_all_addresses a LEFT JOIN voter_file_all b ON upper(a.oa_street_address) = b.vf_street_address;\n",
    "\"\"\"\n",
    "engine.execute(sql_query)"
   ]
  },
  {
   "cell_type": "code",
   "execution_count": 5,
   "metadata": {},
   "outputs": [
    {
     "data": {
      "text/plain": [
       "<sqlalchemy.engine.result.ResultProxy at 0x1282cf048>"
      ]
     },
     "execution_count": 5,
     "metadata": {},
     "output_type": "execute_result"
    }
   ],
   "source": [
    "# create table of voters not joined to open addresses\n",
    "sql_query = \"\"\"\n",
    "CREATE TABLE addresses_not_joined AS\n",
    "SELECT geom, oa_lon, oa_lat, oa_number, oa_postcode, oa_street_address, oa_street FROM voters_join WHERE vf_voter_file_vanid IS NULL;\n",
    "\"\"\"\n",
    "engine.execute(sql_query)"
   ]
  },
  {
   "cell_type": "code",
   "execution_count": 6,
   "metadata": {},
   "outputs": [
    {
     "data": {
      "text/plain": [
       "<sqlalchemy.engine.result.ResultProxy at 0x1282cf710>"
      ]
     },
     "execution_count": 6,
     "metadata": {},
     "output_type": "execute_result"
    }
   ],
   "source": [
    "# voter_join is now only the voters and addresses joined correctly\n",
    "sql_query = \"\"\"\n",
    "DELETE FROM voters_join\n",
    "WHERE vf_voter_file_vanid IS NULL;\n",
    "\"\"\"\n",
    "engine.execute(sql_query)"
   ]
  },
  {
   "cell_type": "code",
   "execution_count": 5,
   "metadata": {},
   "outputs": [
    {
     "data": {
      "text/plain": [
       "<sqlalchemy.engine.result.ResultProxy at 0x1189f8160>"
      ]
     },
     "execution_count": 5,
     "metadata": {},
     "output_type": "execute_result"
    }
   ],
   "source": [
    "# create table for voters not joined\n",
    "sql_query = \"\"\"\n",
    "CREATE TABLE voters_not_joined AS\n",
    "SELECT a.* FROM voter_file_all a LEFT JOIN select_all_addresses b ON a.vf_street_address = upper(b.oa_street_address)\n",
    "WHERE b.geom IS NULL;\n",
    "\"\"\"\n",
    "engine.execute(sql_query)"
   ]
  },
  {
   "cell_type": "markdown",
   "metadata": {},
   "source": [
    "## Fuzzy Matching"
   ]
  },
  {
   "cell_type": "code",
   "execution_count": null,
   "metadata": {},
   "outputs": [],
   "source": [
    "sql_query = \"\"\"\n",
    "SELECT * FROM addresses_not_joined;\n",
    "\"\"\"\n",
    "addresses_not_joined = pd.read_sql_query(sql_query,con)"
   ]
  },
  {
   "cell_type": "code",
   "execution_count": null,
   "metadata": {},
   "outputs": [],
   "source": [
    "sql_query = \"\"\"\n",
    "SELECT * FROM voters_not_joined;\n",
    "\"\"\"\n",
    "voters_not_joined = pd.read_sql_query(sql_query,con)"
   ]
  },
  {
   "cell_type": "code",
   "execution_count": null,
   "metadata": {},
   "outputs": [],
   "source": [
    "unique_street_address = voters_not_joined[['vf_streetno','vf_zip5','vf_street_address']].drop_duplicates()"
   ]
  },
  {
   "cell_type": "code",
   "execution_count": null,
   "metadata": {},
   "outputs": [],
   "source": [
    "unique_street_address['fuzzy_match'] = ''\n",
    "unique_street_address['fuzzy_score'] = 0"
   ]
  },
  {
   "cell_type": "code",
   "execution_count": null,
   "metadata": {},
   "outputs": [],
   "source": [
    "for i in range(0,unique_street_address.shape[0]):\n",
    "    street_no = unique_street_address.iloc[i]['vf_streetno']\n",
    "    zip_code = unique_street_address.iloc[i]['vf_zip5']\n",
    "    street_address = unique_street_address.iloc[i]['vf_street_address']\n",
    "    potential_matches = addresses_not_joined.loc[(addresses_not_joined.oa_number == street_no) & (addresses_not_joined.oa_postcode == zip_code)]['oa_street_address'].values\n",
    "    if (len(potential_matches)>0):\n",
    "        closest_match = difflib.get_close_matches(street_address, potential_matches, n=1)\n",
    "        if(len(closest_match)>0):\n",
    "            match_score = difflib.SequenceMatcher(None, street_address, closest_match[0]).ratio()\n",
    "            unique_street_address.iloc[i,unique_street_address.columns.get_loc('fuzzy_match')] = closest_match\n",
    "            unique_street_address.iloc[i,unique_street_address.columns.get_loc('fuzzy_score')] = match_score\n",
    "    if((i % 100) == 0):\n",
    "        print(i)"
   ]
  },
  {
   "cell_type": "code",
   "execution_count": null,
   "metadata": {},
   "outputs": [],
   "source": [
    "table_name = \"voter_addresses_fuzzy_match\"\n",
    "#write first 1000 rows to database\n",
    "unique_street_address.head(1000).to_sql(table_name, engine, if_exists='replace')"
   ]
  },
  {
   "cell_type": "code",
   "execution_count": null,
   "metadata": {},
   "outputs": [],
   "source": [
    "chunk_size = 1000\n",
    "for i in range(1000, unique_street_address.shape[0]+chunk_size, chunk_size):\n",
    "    print(i)\n",
    "    unique_street_address[i:(i+chunk_size)].to_sql(table_name, engine, if_exists='append')"
   ]
  },
  {
   "cell_type": "code",
   "execution_count": null,
   "metadata": {},
   "outputs": [],
   "source": [
    "sql_query = \"\"\"\n",
    "CREATE TABLE voters_fuzzy_join AS\n",
    "SELECT a.*, b.fuzzy_match, b.fuzzy_score FROM voters_not_joined a LEFT JOIN voter_addresses_fuzzy_match b ON a.vf_street_address = b.vf_street_address;\n",
    "\"\"\"\n",
    "engine.execute(sql_query)"
   ]
  },
  {
   "cell_type": "code",
   "execution_count": null,
   "metadata": {},
   "outputs": [],
   "source": [
    "sql_query = \"\"\"\n",
    "CREATE TABLE voters_fuzzy_select AS\n",
    "SELECT * FROM voters_fuzzy_join WHERE fuzzy_score > 0.867;\n",
    "\"\"\"\n",
    "engine.execute(sql_query)"
   ]
  },
  {
   "cell_type": "code",
   "execution_count": null,
   "metadata": {},
   "outputs": [],
   "source": [
    "sql_query = \"\"\"\n",
    "CREATE TABLE oa_fuzzy_join AS\n",
    "SELECT a.geom, a.oa_lon, a.oa_lat, a.oa_number, a.oa_postcode, a.oa_street_address, a.oa_street, b.* FROM addresses_not_joined a LEFT JOIN voters_fuzzy_select b ON a.oa_street_address = b.fuzzy_match;\n",
    "\"\"\"\n",
    "engine.execute(sql_query)"
   ]
  },
  {
   "cell_type": "code",
   "execution_count": null,
   "metadata": {},
   "outputs": [],
   "source": [
    "# create table of voters not joined to open addresses\n",
    "sql_query = \"\"\"\n",
    "CREATE TABLE addresses_still_not_joined AS\n",
    "SELECT geom, oa_lon, oa_lat, oa_number, oa_postcode, oa_street_address, oa_street FROM oa_fuzzy_join \n",
    "WHERE vf_voter_file_vanid IS NULL OR fuzzy_score < 0.867;\n",
    "\"\"\"\n",
    "engine.execute(sql_query)"
   ]
  },
  {
   "cell_type": "code",
   "execution_count": null,
   "metadata": {},
   "outputs": [],
   "source": [
    "# oa_fuzzy_join is now only the voters and addresses fuzzy matched correctly\n",
    "sql_query = \"\"\"\n",
    "DELETE FROM oa_fuzzy_join\n",
    "WHERE vf_voter_file_vanid IS NULL OR fuzzy_score < 0.867;\n",
    "\"\"\"\n",
    "engine.execute(sql_query)"
   ]
  },
  {
   "cell_type": "code",
   "execution_count": null,
   "metadata": {},
   "outputs": [],
   "source": [
    "sql_query = \"\"\"\n",
    "CREATE TABLE voters_still_not_joined AS\n",
    "SELECT * FROM voters_fuzzy_join \n",
    "WHERE fuzzy_score < 0.867;\n",
    "\"\"\"\n",
    "engine.execute(sql_query)"
   ]
  },
  {
   "cell_type": "markdown",
   "metadata": {},
   "source": [
    "## Smarty Streets RDI Check"
   ]
  },
  {
   "cell_type": "code",
   "execution_count": null,
   "metadata": {},
   "outputs": [],
   "source": [
    "#If smarty_streets_rdi_check_new doesn't exist\n",
    "#sql_query = \"\"\"\n",
    "#SELECT DISTINCT(a.oa_street_address) FROM addresses_not_joined;\n",
    "#\"\"\"\n",
    "#addresses_to_check = pd.read_sql_query(sql_query,con)"
   ]
  },
  {
   "cell_type": "code",
   "execution_count": null,
   "metadata": {},
   "outputs": [],
   "source": [
    "# get addresses to check that have not already been checked\n",
    "sql_query = \"\"\"\n",
    "SELECT DISTINCT(a.oa_street_address) FROM addresses_not_joined a \n",
    "LEFT JOIN smarty_streets_rdi_check_new b\n",
    "ON a.oa_street_address = b.oa_street_address\n",
    "WHERE b.Index IS NULL;\n",
    "\"\"\"\n",
    "addresses_to_check = pd.read_sql_query(sql_query,con)"
   ]
  },
  {
   "cell_type": "code",
   "execution_count": null,
   "metadata": {},
   "outputs": [],
   "source": [
    "addresses_checked = pd.DataFrame(index=range(0, addresses_to_check.shape[0],1),columns=['oa_street_address','oa_street_address_no_zip','zip_code','residential','vacant','active','ss_lon','ss_lat'],dtype='object')"
   ]
  },
  {
   "cell_type": "code",
   "execution_count": null,
   "metadata": {},
   "outputs": [],
   "source": [
    "for i in range(0,addresses_to_check.shape[0],1):\n",
    "    oa_street_address = addresses_to_check.iloc[i].oa_street_address\n",
    "    oa_street_address = oa_street_address.replace(\"'\",\"''\")\n",
    "    address_no_zip = oa_street_address[0:-6]\n",
    "    address_no_zip = address_no_zip.replace(\"'\",\"''\")\n",
    "    zipcode = oa_street_address[-5:]\n",
    "    addresses_checked.loc[i]['oa_street_address'] = oa_street_address\n",
    "    addresses_checked.loc[i]['oa_street_address_no_zip'] = address_no_zip\n",
    "    addresses_checked.loc[i]['zipcode'] = zipcode\n",
    "    result = get_rdi(address_no_zip,zipcode)\n",
    "    if result == 'invalid':\n",
    "        addresses_checked.loc[i]['residential'] = 'invalid'\n",
    "    else:\n",
    "        addresses_checked.loc[i]['residential'] = result.metadata.rdi\n",
    "        addresses_checked.loc[i]['vacant'] = result.analysis.vacant\n",
    "        addresses_checked.loc[i]['active'] = result.analysis.active\n",
    "        addresses_checked.loc[i]['ss_lon'] = result.metadata.longitude\n",
    "        addresses_checked.loc[i]['ss_lat'] = result.metadata.latitude\n",
    "    if(i%100 == 0):\n",
    "        print(i)"
   ]
  },
  {
   "cell_type": "code",
   "execution_count": null,
   "metadata": {},
   "outputs": [],
   "source": [
    "#run this the first time the table is created\n",
    "#table_name = \"smarty_streets_rdi_check_new\"\n",
    "#write first 1000 rows to database\n",
    "#addresses_checked.head(1000).to_sql(table_name, engine, if_exists='replace')\n",
    "#chunk_size = 1000\n",
    "#for i in range(1000, addresses_checked.shape[0]+chunk_size, chunk_size):\n",
    "#    addresses_checked[i:(i+chunk_size)].to_sql(table_name, engine, if_exists='append')\n",
    "#    print(i)"
   ]
  },
  {
   "cell_type": "code",
   "execution_count": null,
   "metadata": {},
   "outputs": [],
   "source": [
    "# Insert into table if already exists\n",
    "addresses_checked.head(1000).to_sql(\"smarty_streets_rdi_check_new\", engine, if_exists='append')\n",
    "if(addresses_checked.shape[0]>1000):\n",
    "    chunk_size = 1000\n",
    "    for i in range(1000, addresses_checked.shape[0]+chunk_size, chunk_size):\n",
    "        print(i)\n",
    "        addresses_checked[i:(i+chunk_size)].to_sql(\"smarty_streets_rdi_check_new\", engine, if_exists='append')"
   ]
  },
  {
   "cell_type": "markdown",
   "metadata": {},
   "source": [
    "## Smarty Streets Geocode Voters"
   ]
  },
  {
   "cell_type": "code",
   "execution_count": null,
   "metadata": {},
   "outputs": [],
   "source": [
    "#If smarty_streets_geocode doesn't exist\n",
    "#sql_query = \"\"\"\n",
    "#SELECT DISTINCT(a.vf_street_address) FROM voters_still_not_joined;\n",
    "#\"\"\"\n",
    "#voters_to_geocode = pd.read_sql_query(sql_query,con)"
   ]
  },
  {
   "cell_type": "code",
   "execution_count": null,
   "metadata": {},
   "outputs": [],
   "source": [
    "# get voters to geocode that have not already been geocoded\n",
    "sql_query = \"\"\"\n",
    "SELECT DISTINCT(a.vf_street_address) FROM voters_still_not_joined a \n",
    "LEFT JOIN smarty_streets_geocode b\n",
    "ON a.vf_street_address = b.vf_street_address\n",
    "WHERE b.vf_street_address IS NULL;\n",
    "\"\"\"\n",
    "voters_to_geocode = pd.read_sql_query(sql_query,con)"
   ]
  },
  {
   "cell_type": "code",
   "execution_count": null,
   "metadata": {},
   "outputs": [],
   "source": [
    "voters_geocoded = pd.DataFrame(index=range(0, voters_to_geocode.shape[0],1),columns=['vf_street_address','vf_street_address_no_zip','ss_lon','ss_lat','residential','vacant'],dtype='object')"
   ]
  },
  {
   "cell_type": "code",
   "execution_count": null,
   "metadata": {},
   "outputs": [],
   "source": [
    "for i in range(0,voters_to_geocode.shape[0],1):\n",
    "    vf_street_address = voters_to_geocode.iloc[i].vf_street_address\n",
    "    vf_street_address = vf_street_address.replace(\"'\",\"''\")\n",
    "    address_no_zip = vf_street_address[0:-6]\n",
    "    address_no_zip = address_no_zip.replace(\"'\",\"''\")\n",
    "    zipcode = vf_street_address[-5:]\n",
    "    voters_geocoded.loc[i]['vf_street_address'] = vf_street_address\n",
    "    voters_geocoded.loc[i]['vf_street_address_no_zip'] = address_no_zip\n",
    "    result = get_rdi(address_no_zip,zipcode)\n",
    "    if result == 'invalid':\n",
    "        voters_geocoded.loc[i]['residential'] = 'invalid'\n",
    "    else:\n",
    "        voters_geocoded.loc[i]['residential'] = result.metadata.rdi\n",
    "        voters_geocoded.loc[i]['vacant'] = result.analysis.vacant\n",
    "        voters_geocoded.loc[i]['active'] = result.analysis.active\n",
    "        voters_geocoded.loc[i]['ss_lon'] = result.metadata.longitude\n",
    "        voters_geocoded.loc[i]['ss_lat'] = result.metadata.latitude\n",
    "    if(i%100 == 0):\n",
    "        print(i)"
   ]
  },
  {
   "cell_type": "code",
   "execution_count": null,
   "metadata": {},
   "outputs": [],
   "source": [
    "# Insert new rows into table\n",
    "voters_geocoded.head(1000).to_sql(\"smarty_streets_geocode\", engine, if_exists='append')\n",
    "if(voters_geocoded.shape[0]>1000):\n",
    "    chunk_size = 1000\n",
    "    for i in range(1000, voters_geocoded.shape[0]+chunk_size, chunk_size):\n",
    "        print(i)\n",
    "        voters_geocoded[i:(i+chunk_size)].to_sql(\"smarty_streets_geocode\", engine, if_exists='append')"
   ]
  },
  {
   "cell_type": "code",
   "execution_count": null,
   "metadata": {},
   "outputs": [],
   "source": [
    "#if table is created new\n",
    "#sql_query = \"\"\"\n",
    "#SELECT AddGeometryColumn('smarty_streets_geocode','geom',4326,'POINT',2);\n",
    "#\"\"\"\n",
    "#engine.execute(sql_query)"
   ]
  },
  {
   "cell_type": "code",
   "execution_count": null,
   "metadata": {},
   "outputs": [],
   "source": [
    "sql_query = \"\"\"\n",
    "UPDATE smarty_streets_geocode SET geom = ST_SetSRID(ST_MakePoint(ss_lon::double precision, ss_lat::double precision), 4326);\n",
    "\"\"\"\n",
    "engine.execute(sql_query)"
   ]
  },
  {
   "cell_type": "markdown",
   "metadata": {},
   "source": [
    "## Final Joins and Processing"
   ]
  },
  {
   "cell_type": "code",
   "execution_count": 5,
   "metadata": {},
   "outputs": [
    {
     "data": {
      "text/plain": [
       "<sqlalchemy.engine.result.ResultProxy at 0x11e2a9ba8>"
      ]
     },
     "execution_count": 5,
     "metadata": {},
     "output_type": "execute_result"
    }
   ],
   "source": [
    "# create table voters_not_joined_geocoded by joining geocoded voters not joined with original table that identified them, tx25_join_check2\n",
    "sql_query = \"\"\"\n",
    "CREATE TABLE voters_not_joined_geocoded AS\n",
    "SELECT a.*, b.geom FROM voters_still_not_joined a LEFT JOIN smarty_streets_geocode b ON a.vf_street_address = b.vf_street_address;\n",
    "\"\"\"\n",
    "engine.execute(sql_query)"
   ]
  },
  {
   "cell_type": "code",
   "execution_count": 6,
   "metadata": {},
   "outputs": [
    {
     "data": {
      "text/html": [
       "<div>\n",
       "<style scoped>\n",
       "    .dataframe tbody tr th:only-of-type {\n",
       "        vertical-align: middle;\n",
       "    }\n",
       "\n",
       "    .dataframe tbody tr th {\n",
       "        vertical-align: top;\n",
       "    }\n",
       "\n",
       "    .dataframe thead th {\n",
       "        text-align: right;\n",
       "    }\n",
       "</style>\n",
       "<table border=\"1\" class=\"dataframe\">\n",
       "  <thead>\n",
       "    <tr style=\"text-align: right;\">\n",
       "      <th></th>\n",
       "      <th>count</th>\n",
       "    </tr>\n",
       "  </thead>\n",
       "  <tbody>\n",
       "    <tr>\n",
       "      <th>0</th>\n",
       "      <td>11710</td>\n",
       "    </tr>\n",
       "  </tbody>\n",
       "</table>\n",
       "</div>"
      ],
      "text/plain": [
       "   count\n",
       "0  11710"
      ]
     },
     "execution_count": 6,
     "metadata": {},
     "output_type": "execute_result"
    }
   ],
   "source": [
    "sql_query = \"\"\"\n",
    "SELECT COUNT(*) FROM voters_not_joined_geocoded WHERE geom IS NULL;\n",
    "\"\"\"\n",
    "pd.read_sql_query(sql_query,con)"
   ]
  },
  {
   "cell_type": "code",
   "execution_count": 11,
   "metadata": {},
   "outputs": [
    {
     "data": {
      "text/plain": [
       "<sqlalchemy.engine.result.ResultProxy at 0x10f5c9c88>"
      ]
     },
     "execution_count": 11,
     "metadata": {},
     "output_type": "execute_result"
    }
   ],
   "source": [
    "# now append voters_not_joined_geocoded to voters_join\n",
    "# I should reconsider doing an insert here, since it means I will need to redo the original join if I want to change anything\n",
    "# maybe I can add a field that tells how the record was geocoded, althought, that should be recorded by whether the row has an oa_address\n",
    "sql_query = \"\"\"\n",
    "INSERT INTO voters_join (geom, vf_voter_file_vanid, vf_sex, vf_age, vf_street_address, vf_multi_unit, vf_cntyvtd)\n",
    "SELECT geom, vf_voter_file_vanid, vf_sex, vf_age, vf_street_address, vf_multi_unit, vf_cntyvtd\n",
    "FROM voters_not_joined_geocoded;\n",
    "\"\"\"\n",
    "engine.execute(sql_query)"
   ]
  },
  {
   "cell_type": "code",
   "execution_count": 12,
   "metadata": {},
   "outputs": [
    {
     "data": {
      "text/plain": [
       "<sqlalchemy.engine.result.ResultProxy at 0x1283450b8>"
      ]
     },
     "execution_count": 12,
     "metadata": {},
     "output_type": "execute_result"
    }
   ],
   "source": [
    "# now append oa_fuzzy_join to voters_join\n",
    "# I should reconsider doing an insert here, since it means I will need to redo the original join if I want to change anything\n",
    "# maybe I can add a field that tells how the record was geocoded, althought, that should be recorded by whether the row has an oa_address\n",
    "sql_query = \"\"\"\n",
    "INSERT INTO voters_join (geom, vf_voter_file_vanid, vf_sex, vf_age, vf_street_address, vf_multi_unit, vf_cntyvtd)\n",
    "SELECT geom, vf_voter_file_vanid, vf_sex, vf_age, vf_street_address, vf_multi_unit, vf_cntyvtd\n",
    "FROM oa_fuzzy_join;\n",
    "\"\"\"\n",
    "engine.execute(sql_query)"
   ]
  },
  {
   "cell_type": "code",
   "execution_count": 13,
   "metadata": {},
   "outputs": [
    {
     "data": {
      "text/html": [
       "<div>\n",
       "<style scoped>\n",
       "    .dataframe tbody tr th:only-of-type {\n",
       "        vertical-align: middle;\n",
       "    }\n",
       "\n",
       "    .dataframe tbody tr th {\n",
       "        vertical-align: top;\n",
       "    }\n",
       "\n",
       "    .dataframe thead th {\n",
       "        text-align: right;\n",
       "    }\n",
       "</style>\n",
       "<table border=\"1\" class=\"dataframe\">\n",
       "  <thead>\n",
       "    <tr style=\"text-align: right;\">\n",
       "      <th></th>\n",
       "      <th>count</th>\n",
       "    </tr>\n",
       "  </thead>\n",
       "  <tbody>\n",
       "    <tr>\n",
       "      <th>0</th>\n",
       "      <td>1441281</td>\n",
       "    </tr>\n",
       "  </tbody>\n",
       "</table>\n",
       "</div>"
      ],
      "text/plain": [
       "     count\n",
       "0  1441281"
      ]
     },
     "execution_count": 13,
     "metadata": {},
     "output_type": "execute_result"
    }
   ],
   "source": [
    "sql_query = \"\"\"\n",
    "SELECT COUNT(*) FROM voters_join;\n",
    "\"\"\"\n",
    "pd.read_sql_query(sql_query,con)"
   ]
  },
  {
   "cell_type": "code",
   "execution_count": 14,
   "metadata": {},
   "outputs": [
    {
     "data": {
      "text/plain": [
       "<sqlalchemy.engine.result.ResultProxy at 0x128345470>"
      ]
     },
     "execution_count": 14,
     "metadata": {},
     "output_type": "execute_result"
    }
   ],
   "source": [
    "sql_query = \"\"\"\n",
    "CREATE TABLE voters_not_joined_geocoded_3081 AS\n",
    "    SELECT * FROM voters_not_joined_geocoded;\n",
    "\"\"\"\n",
    "engine.execute(sql_query)"
   ]
  },
  {
   "cell_type": "code",
   "execution_count": 15,
   "metadata": {},
   "outputs": [
    {
     "data": {
      "text/plain": [
       "<sqlalchemy.engine.result.ResultProxy at 0x1283455f8>"
      ]
     },
     "execution_count": 15,
     "metadata": {},
     "output_type": "execute_result"
    }
   ],
   "source": [
    "sql_query = \"\"\"\n",
    "ALTER TABLE voters_not_joined_geocoded_3081 \n",
    "   ALTER COLUMN geom \n",
    "   TYPE Geometry(Point, 3081) \n",
    "   USING ST_Transform(geom, 3081);\n",
    "\"\"\"\n",
    "engine.execute(sql_query)"
   ]
  },
  {
   "cell_type": "code",
   "execution_count": 16,
   "metadata": {},
   "outputs": [
    {
     "data": {
      "text/plain": [
       "<sqlalchemy.engine.result.ResultProxy at 0x128345780>"
      ]
     },
     "execution_count": 16,
     "metadata": {},
     "output_type": "execute_result"
    }
   ],
   "source": [
    "sql_query = \"\"\"\n",
    "CREATE INDEX voters_not_joined_geocoded_3081_gix ON voters_not_joined_geocoded_3081 USING GIST (geom);\n",
    "\"\"\"\n",
    "engine.execute(sql_query)"
   ]
  },
  {
   "cell_type": "code",
   "execution_count": 17,
   "metadata": {},
   "outputs": [
    {
     "data": {
      "text/plain": [
       "<sqlalchemy.engine.result.ResultProxy at 0x128345908>"
      ]
     },
     "execution_count": 17,
     "metadata": {},
     "output_type": "execute_result"
    }
   ],
   "source": [
    "# Copy and project tables that I need for DWithin, calculate indices\n",
    "# I could have used this projection from the beginning\n",
    "sql_query = \"\"\"\n",
    "CREATE TABLE addresses_still_not_joined_3081 AS\n",
    "    SELECT * FROM addresses_still_not_joined;\n",
    "\"\"\"\n",
    "engine.execute(sql_query)"
   ]
  },
  {
   "cell_type": "code",
   "execution_count": 18,
   "metadata": {},
   "outputs": [
    {
     "data": {
      "text/plain": [
       "<sqlalchemy.engine.result.ResultProxy at 0x128345a58>"
      ]
     },
     "execution_count": 18,
     "metadata": {},
     "output_type": "execute_result"
    }
   ],
   "source": [
    "sql_query = \"\"\"\n",
    "ALTER TABLE addresses_still_not_joined_3081 \n",
    "   ALTER COLUMN geom \n",
    "   TYPE Geometry(Point, 3081) \n",
    "   USING ST_Transform(geom, 3081);\n",
    "\"\"\"\n",
    "engine.execute(sql_query)"
   ]
  },
  {
   "cell_type": "code",
   "execution_count": 19,
   "metadata": {},
   "outputs": [
    {
     "data": {
      "text/plain": [
       "<sqlalchemy.engine.result.ResultProxy at 0x128345c18>"
      ]
     },
     "execution_count": 19,
     "metadata": {},
     "output_type": "execute_result"
    }
   ],
   "source": [
    "sql_query = \"\"\"\n",
    "CREATE INDEX addresses_still_not_joined_3081_gix ON addresses_still_not_joined_3081 USING GIST (geom);\n",
    "\"\"\"\n",
    "engine.execute(sql_query)"
   ]
  },
  {
   "cell_type": "code",
   "execution_count": 20,
   "metadata": {},
   "outputs": [
    {
     "data": {
      "text/plain": [
       "<sqlalchemy.engine.result.ResultProxy at 0x1282cfc88>"
      ]
     },
     "execution_count": 20,
     "metadata": {},
     "output_type": "execute_result"
    }
   ],
   "source": [
    "# this table might come in handy, but right now don't have a need for it\n",
    "sql_query = \"\"\"\n",
    "CREATE TABLE voters_join_3081 AS\n",
    "    SELECT * FROM voters_join;\n",
    "\"\"\"\n",
    "engine.execute(sql_query)"
   ]
  },
  {
   "cell_type": "code",
   "execution_count": 21,
   "metadata": {},
   "outputs": [
    {
     "data": {
      "text/plain": [
       "<sqlalchemy.engine.result.ResultProxy at 0x1282c31d0>"
      ]
     },
     "execution_count": 21,
     "metadata": {},
     "output_type": "execute_result"
    }
   ],
   "source": [
    "sql_query = \"\"\"\n",
    "ALTER TABLE voters_join_3081 \n",
    "   ALTER COLUMN geom \n",
    "   TYPE Geometry(Point, 3081) \n",
    "   USING ST_Transform(geom, 3081);\n",
    "\"\"\"\n",
    "engine.execute(sql_query)"
   ]
  },
  {
   "cell_type": "code",
   "execution_count": 22,
   "metadata": {},
   "outputs": [
    {
     "data": {
      "text/plain": [
       "<sqlalchemy.engine.result.ResultProxy at 0x1283530b8>"
      ]
     },
     "execution_count": 22,
     "metadata": {},
     "output_type": "execute_result"
    }
   ],
   "source": [
    "sql_query = \"\"\"\n",
    "CREATE INDEX voters_join_3081_gix ON voters_join_3081 USING GIST (geom);\n",
    "\"\"\"\n",
    "engine.execute(sql_query)"
   ]
  },
  {
   "cell_type": "code",
   "execution_count": 23,
   "metadata": {},
   "outputs": [
    {
     "data": {
      "text/plain": [
       "<sqlalchemy.engine.result.ResultProxy at 0x128353278>"
      ]
     },
     "execution_count": 23,
     "metadata": {},
     "output_type": "execute_result"
    }
   ],
   "source": [
    "sql_query = \"\"\"\n",
    "ALTER TABLE addresses_still_not_joined_3081\n",
    "ADD COLUMN join_mask integer;\n",
    "\"\"\"\n",
    "engine.execute(sql_query)"
   ]
  },
  {
   "cell_type": "code",
   "execution_count": 24,
   "metadata": {},
   "outputs": [
    {
     "data": {
      "text/plain": [
       "<sqlalchemy.engine.result.ResultProxy at 0x128353358>"
      ]
     },
     "execution_count": 24,
     "metadata": {},
     "output_type": "execute_result"
    }
   ],
   "source": [
    "sql_query = \"\"\"\n",
    "UPDATE addresses_still_not_joined_3081\n",
    "SET \"join_mask\" = 0;\n",
    "\"\"\"\n",
    "engine.execute(sql_query)"
   ]
  },
  {
   "cell_type": "code",
   "execution_count": 25,
   "metadata": {},
   "outputs": [
    {
     "data": {
      "text/plain": [
       "<sqlalchemy.engine.result.ResultProxy at 0x128353588>"
      ]
     },
     "execution_count": 25,
     "metadata": {},
     "output_type": "execute_result"
    }
   ],
   "source": [
    "sql_query = \"\"\"\n",
    "UPDATE addresses_still_not_joined_3081 dst\n",
    "SET \"join_mask\" = 1\n",
    "FROM voters_join_3081 src\n",
    "WHERE ST_DWITHIN(src.geom,dst.geom,10);\n",
    "\"\"\"\n",
    "engine.execute(sql_query)"
   ]
  },
  {
   "cell_type": "code",
   "execution_count": 26,
   "metadata": {},
   "outputs": [
    {
     "data": {
      "text/html": [
       "<div>\n",
       "<style scoped>\n",
       "    .dataframe tbody tr th:only-of-type {\n",
       "        vertical-align: middle;\n",
       "    }\n",
       "\n",
       "    .dataframe tbody tr th {\n",
       "        vertical-align: top;\n",
       "    }\n",
       "\n",
       "    .dataframe thead th {\n",
       "        text-align: right;\n",
       "    }\n",
       "</style>\n",
       "<table border=\"1\" class=\"dataframe\">\n",
       "  <thead>\n",
       "    <tr style=\"text-align: right;\">\n",
       "      <th></th>\n",
       "      <th>count</th>\n",
       "    </tr>\n",
       "  </thead>\n",
       "  <tbody>\n",
       "    <tr>\n",
       "      <th>0</th>\n",
       "      <td>46271</td>\n",
       "    </tr>\n",
       "  </tbody>\n",
       "</table>\n",
       "</div>"
      ],
      "text/plain": [
       "   count\n",
       "0  46271"
      ]
     },
     "execution_count": 26,
     "metadata": {},
     "output_type": "execute_result"
    }
   ],
   "source": [
    "sql_query = \"\"\"\n",
    "SELECT COUNT(*) FROM addresses_still_not_joined_3081 WHERE join_mask = 1;\n",
    "\"\"\"\n",
    "pd.read_sql_query(sql_query,con)"
   ]
  },
  {
   "cell_type": "code",
   "execution_count": 27,
   "metadata": {},
   "outputs": [
    {
     "data": {
      "text/plain": [
       "<sqlalchemy.engine.result.ResultProxy at 0x128353828>"
      ]
     },
     "execution_count": 27,
     "metadata": {},
     "output_type": "execute_result"
    }
   ],
   "source": [
    "sql_query = \"\"\"\n",
    "CREATE TABLE final_addresses_not_joined AS \n",
    "SELECT a.*, b.residential, b.vacant, b.active FROM addresses_still_not_joined_3081 a LEFT JOIN smarty_streets_rdi_check_new b ON a.oa_street_address = b.oa_street_address;\n",
    "\"\"\"\n",
    "engine.execute(sql_query)"
   ]
  },
  {
   "cell_type": "code",
   "execution_count": 28,
   "metadata": {},
   "outputs": [
    {
     "data": {
      "text/plain": [
       "<sqlalchemy.engine.result.ResultProxy at 0x128353978>"
      ]
     },
     "execution_count": 28,
     "metadata": {},
     "output_type": "execute_result"
    }
   ],
   "source": [
    "sql_query = \"\"\"\n",
    "DELETE FROM final_addresses_not_joined\n",
    "WHERE residential != 'Residential' OR join_mask = 1 OR active = 'N' OR vacant = 'Y';\n",
    "\"\"\"\n",
    "engine.execute(sql_query)"
   ]
  },
  {
   "cell_type": "code",
   "execution_count": 29,
   "metadata": {},
   "outputs": [
    {
     "data": {
      "text/html": [
       "<div>\n",
       "<style scoped>\n",
       "    .dataframe tbody tr th:only-of-type {\n",
       "        vertical-align: middle;\n",
       "    }\n",
       "\n",
       "    .dataframe tbody tr th {\n",
       "        vertical-align: top;\n",
       "    }\n",
       "\n",
       "    .dataframe thead th {\n",
       "        text-align: right;\n",
       "    }\n",
       "</style>\n",
       "<table border=\"1\" class=\"dataframe\">\n",
       "  <thead>\n",
       "    <tr style=\"text-align: right;\">\n",
       "      <th></th>\n",
       "      <th>count</th>\n",
       "    </tr>\n",
       "  </thead>\n",
       "  <tbody>\n",
       "    <tr>\n",
       "      <th>0</th>\n",
       "      <td>140313</td>\n",
       "    </tr>\n",
       "  </tbody>\n",
       "</table>\n",
       "</div>"
      ],
      "text/plain": [
       "    count\n",
       "0  140313"
      ]
     },
     "execution_count": 29,
     "metadata": {},
     "output_type": "execute_result"
    }
   ],
   "source": [
    "sql_query = \"\"\"\n",
    "SELECT COUNT(*) FROM final_addresses_not_joined;\n",
    "\"\"\"\n",
    "pd.read_sql_query(sql_query,con)"
   ]
  },
  {
   "cell_type": "code",
   "execution_count": 30,
   "metadata": {},
   "outputs": [
    {
     "data": {
      "text/plain": [
       "<sqlalchemy.engine.result.ResultProxy at 0x128353d68>"
      ]
     },
     "execution_count": 30,
     "metadata": {},
     "output_type": "execute_result"
    }
   ],
   "source": [
    "sql_query = \"\"\"\n",
    "CREATE INDEX final_addresses_not_joined_gix ON final_addresses_not_joined USING GIST (geom);\n",
    "\"\"\"\n",
    "engine.execute(sql_query)"
   ]
  },
  {
   "cell_type": "code",
   "execution_count": null,
   "metadata": {},
   "outputs": [],
   "source": [
    "# project vtds_tx to 3081"
   ]
  },
  {
   "cell_type": "code",
   "execution_count": 27,
   "metadata": {},
   "outputs": [
    {
     "data": {
      "text/plain": [
       "<sqlalchemy.engine.result.ResultProxy at 0x11e3c8048>"
      ]
     },
     "execution_count": 27,
     "metadata": {},
     "output_type": "execute_result"
    }
   ],
   "source": [
    "sql_query = \"\"\"\n",
    "CREATE TABLE vtds_tx_3081 AS\n",
    "    SELECT * FROM vtds_tx;\n",
    "\"\"\"\n",
    "engine.execute(sql_query)"
   ]
  },
  {
   "cell_type": "code",
   "execution_count": 29,
   "metadata": {},
   "outputs": [
    {
     "data": {
      "text/plain": [
       "<sqlalchemy.engine.result.ResultProxy at 0x11e573358>"
      ]
     },
     "execution_count": 29,
     "metadata": {},
     "output_type": "execute_result"
    }
   ],
   "source": [
    "sql_query = \"\"\"\n",
    "ALTER TABLE vtds_tx_3081 \n",
    "   ALTER COLUMN geom \n",
    "   TYPE Geometry(Polygon, 3081) \n",
    "   USING ST_Transform(geom, 3081);\n",
    "\"\"\"\n",
    "engine.execute(sql_query)"
   ]
  },
  {
   "cell_type": "code",
   "execution_count": 30,
   "metadata": {},
   "outputs": [
    {
     "data": {
      "text/plain": [
       "<sqlalchemy.engine.result.ResultProxy at 0x11e573588>"
      ]
     },
     "execution_count": 30,
     "metadata": {},
     "output_type": "execute_result"
    }
   ],
   "source": [
    "sql_query = \"\"\"\n",
    "CREATE INDEX vtds_tx_3081_gix ON vtds_tx_3081 USING GIST (geom);\n",
    "\"\"\"\n",
    "engine.execute(sql_query)"
   ]
  },
  {
   "cell_type": "code",
   "execution_count": 31,
   "metadata": {},
   "outputs": [
    {
     "data": {
      "text/plain": [
       "<sqlalchemy.engine.result.ResultProxy at 0x128353eb8>"
      ]
     },
     "execution_count": 31,
     "metadata": {},
     "output_type": "execute_result"
    }
   ],
   "source": [
    "# spatial join the cntyvtd field to final_addresses_not_joined\n",
    "sql_query = \"\"\"\n",
    "CREATE TABLE final_addresses_not_joined_vtd AS\n",
    "SELECT p1.*, p2.cntyvtd FROM final_addresses_not_joined p1, vtds_tx_3081 p2 WHERE ST_WITHIN(p1.geom, p2.geom)\n",
    "\"\"\"\n",
    "engine.execute(sql_query)"
   ]
  },
  {
   "cell_type": "code",
   "execution_count": 8,
   "metadata": {},
   "outputs": [
    {
     "data": {
      "text/html": [
       "<div>\n",
       "<style scoped>\n",
       "    .dataframe tbody tr th:only-of-type {\n",
       "        vertical-align: middle;\n",
       "    }\n",
       "\n",
       "    .dataframe tbody tr th {\n",
       "        vertical-align: top;\n",
       "    }\n",
       "\n",
       "    .dataframe thead th {\n",
       "        text-align: right;\n",
       "    }\n",
       "</style>\n",
       "<table border=\"1\" class=\"dataframe\">\n",
       "  <thead>\n",
       "    <tr style=\"text-align: right;\">\n",
       "      <th></th>\n",
       "      <th>count</th>\n",
       "    </tr>\n",
       "  </thead>\n",
       "  <tbody>\n",
       "    <tr>\n",
       "      <th>0</th>\n",
       "      <td>609790</td>\n",
       "    </tr>\n",
       "  </tbody>\n",
       "</table>\n",
       "</div>"
      ],
      "text/plain": [
       "    count\n",
       "0  609790"
      ]
     },
     "execution_count": 8,
     "metadata": {},
     "output_type": "execute_result"
    }
   ],
   "source": [
    "sql_query = \"\"\"\n",
    "SELECT COUNT(DISTINCT(vf_street_address)) FROM voters_join_3081;\n",
    "\"\"\"\n",
    "pd.read_sql_query(sql_query,con)"
   ]
  }
 ],
 "metadata": {
  "kernelspec": {
   "display_name": "Python 3",
   "language": "python",
   "name": "python3"
  },
  "language_info": {
   "codemirror_mode": {
    "name": "ipython",
    "version": 3
   },
   "file_extension": ".py",
   "mimetype": "text/x-python",
   "name": "python",
   "nbconvert_exporter": "python",
   "pygments_lexer": "ipython3",
   "version": "3.6.5"
  }
 },
 "nbformat": 4,
 "nbformat_minor": 2
}
